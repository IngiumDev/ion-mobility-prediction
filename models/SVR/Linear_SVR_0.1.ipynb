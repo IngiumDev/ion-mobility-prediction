{
 "cells": [
  {
   "cell_type": "code",
   "execution_count": 1,
   "metadata": {
    "collapsed": true
   },
   "outputs": [],
   "source": [
    "from sklearn.model_selection import cross_val_score, KFold\n",
    "import numpy as np\n",
    "import pandas as pd\n",
    "from sklearn.model_selection import train_test_split\n",
    "from sklearn.metrics import mean_squared_error\n",
    "import pickle\n",
    "from sklearn.svm import LinearSVR\n",
    "import mlflow"
   ]
  },
  {
   "cell_type": "markdown",
   "source": [
    "Configure MLflow tracking"
   ],
   "metadata": {
    "collapsed": false
   }
  },
  {
   "cell_type": "code",
   "execution_count": 17,
   "outputs": [],
   "source": [
    "mlflow.set_experiment(\"/Shared/standard\")\n",
    "\n",
    "mlflow.set_tracking_uri(\"databricks\")\n",
    "mlflow.start_run()\n",
    "mlflow.sklearn.autolog()"
   ],
   "metadata": {
    "collapsed": false
   }
  },
  {
   "cell_type": "markdown",
   "source": [
    "Load  data into a  DataFrame"
   ],
   "metadata": {
    "collapsed": false
   }
  },
  {
   "cell_type": "code",
   "execution_count": 18,
   "outputs": [
    {
     "name": "stderr",
     "output_type": "stream",
     "text": [
      "/var/folders/sr/wyqzncnn2vd6vrgm99v9cz7w0000gp/T/ipykernel_2811/1061432787.py:6: SettingWithCopyWarning: \n",
      "A value is trying to be set on a copy of a slice from a DataFrame.\n",
      "Try using .loc[row_indexer,col_indexer] = value instead\n",
      "\n",
      "See the caveats in the documentation: https://pandas.pydata.org/pandas-docs/stable/user_guide/indexing.html#returning-a-view-versus-a-copy\n",
      "  mb_clean_frame['CCS'] = mb_clean_frame['CCS'].apply(lambda x: np.log(x))\n"
     ]
    }
   ],
   "source": [
    "mb_raw_data = pd.read_csv('/Users/mad_hatter/Desktop/Bioinfo/PBL/data/mann_bruker.txt', sep='\\t')\n",
    "mb_data_frame = pd.DataFrame(mb_raw_data)\n",
    "# Delete all columns except Sequence, m/z, and CCS\n",
    "mb_clean_frame = mb_data_frame[['Sequence', 'm/z', 'CCS']]\n",
    "# Log transform CCS values\n",
    "mb_clean_frame['CCS'] = mb_clean_frame['CCS'].apply(lambda x: np.log(x))"
   ],
   "metadata": {
    "collapsed": false
   }
  },
  {
   "cell_type": "markdown",
   "source": [
    "Train model"
   ],
   "metadata": {
    "collapsed": false
   }
  },
  {
   "cell_type": "code",
   "execution_count": 19,
   "outputs": [],
   "source": [
    "# Split the data into input (m/z) and output (CCS) variables\n",
    "X = mb_clean_frame[['m/z']]\n",
    "y = mb_clean_frame['CCS']\n",
    "# Define the number of folds\n",
    "k = 4"
   ],
   "metadata": {
    "collapsed": false
   }
  },
  {
   "cell_type": "markdown",
   "source": [
    "Perform k-fold cross validation\n"
   ],
   "metadata": {
    "collapsed": false
   }
  },
  {
   "cell_type": "code",
   "execution_count": 20,
   "outputs": [
    {
     "name": "stderr",
     "output_type": "stream",
     "text": [
      "/Users/mad_hatter/.conda/envs/PBL/lib/python3.10/site-packages/sklearn/svm/_base.py:1244: ConvergenceWarning: Liblinear failed to converge, increase the number of iterations.\n",
      "  warnings.warn(\n",
      "/Users/mad_hatter/.conda/envs/PBL/lib/python3.10/site-packages/sklearn/svm/_base.py:1244: ConvergenceWarning: Liblinear failed to converge, increase the number of iterations.\n",
      "  warnings.warn(\n",
      "/Users/mad_hatter/.conda/envs/PBL/lib/python3.10/site-packages/sklearn/svm/_base.py:1244: ConvergenceWarning: Liblinear failed to converge, increase the number of iterations.\n",
      "  warnings.warn(\n",
      "/Users/mad_hatter/.conda/envs/PBL/lib/python3.10/site-packages/sklearn/svm/_base.py:1244: ConvergenceWarning: Liblinear failed to converge, increase the number of iterations.\n",
      "  warnings.warn(\n",
      "/Users/mad_hatter/.conda/envs/PBL/lib/python3.10/site-packages/sklearn/svm/_base.py:1244: ConvergenceWarning: Liblinear failed to converge, increase the number of iterations.\n",
      "  warnings.warn(\n",
      "2023/07/03 02:12:41 WARNING mlflow.utils.autologging_utils: Encountered unexpected error during sklearn autologging: The following failures occurred while performing one or more logging operations: [MlflowException(\"Failed to perform one or more operations on the run with ID ac6e644bab874668857ee6731177b2e7. Failed operations: [RestException('INVALID_PARAMETER_VALUE: Parameter with key epsilon was already logged with a value of 0. The attempted new value was 0.0')]\")]\n"
     ]
    },
    {
     "name": "stdout",
     "output_type": "stream",
     "text": [
      "Best Mean Squared Error: 0.2685347600499791\n",
      "All Mean Squared Errors: [0.8419782732481226, 0.796652052882215, 0.2954254713004413, 0.29587782497202025]\n",
      "Median Relative Errors: [0.009100448830507679, 0.008439782665500353, 0.0026004371084238477, 0.0027098946185706804]\n"
     ]
    }
   ],
   "source": [
    "# Initialize the cross-validation object\n",
    "kf = KFold(n_splits=k)\n",
    "\n",
    "# Initialize a list to store the MSE for each fold\n",
    "mse_scores = []\n",
    "median_relative_errors = []\n",
    "\n",
    "# Perform k-fold cross-validation\n",
    "for train_index, test_index in kf.split(X):\n",
    "    # Split the data into training and testing sets for the current fold\n",
    "    X_train, X_test = X.iloc[train_index], X.iloc[test_index]\n",
    "    y_train, y_test = y.iloc[train_index], y.iloc[test_index]\n",
    "\n",
    "    # Create a random forest regressor model\n",
    "    model = LinearSVR(epsilon=0, random_state=1, max_iter=3000)\n",
    "\n",
    "    # Train the model\n",
    "    model.fit(X_train, y_train)\n",
    "\n",
    "    # Make predictions on the test set\n",
    "    y_pred = model.predict(X_test)\n",
    "\n",
    "    # Calculate the MSE for the current fold\n",
    "    mse = mean_squared_error(y_test, y_pred)\n",
    "    mse_scores.append(mse)\n",
    "\n",
    "    relative_errors = np.abs((y_pred - y_test) / y_test)\n",
    "    median_relative_error = np.median(relative_errors)\n",
    "    median_relative_errors.append(median_relative_error)\n",
    "\n",
    "# Find the index of the fold with the lowest MSE\n",
    "best_fold_index = mse_scores.index(min(mse_scores))\n",
    "# Split the data into training and testing sets for the best fold\n",
    "X_train_best, X_test_best = X.iloc[kf.split(X).__next__()[0]], X.iloc[kf.split(X).__next__()[1]]\n",
    "y_train_best, y_test_best = y.iloc[kf.split(y).__next__()[0]], y.iloc[kf.split(y).__next__()[1]]\n",
    "\n",
    "# Create the final model using the best fold\n",
    "final_model = LinearSVR(random_state=1)\n",
    "final_model.fit(X_train_best, y_train_best)\n",
    "\n",
    "# Make predictions on the test set using the final model\n",
    "y_pred_best = final_model.predict(X_test_best)\n",
    "\n",
    "# Calculate the MSE for the best fold\n",
    "best_mse = mean_squared_error(y_test_best, y_pred_best)\n",
    "print(\"Best Mean Squared Error:\", best_mse)\n",
    "# Print all mse scores\n",
    "print(\"All Mean Squared Errors:\", mse_scores)\n",
    "# Print the median of the relative errors for each fold\n",
    "print(\"Median Relative Errors:\", median_relative_errors)"
   ],
   "metadata": {
    "collapsed": false
   }
  },
  {
   "cell_type": "code",
   "execution_count": 16,
   "outputs": [],
   "source": [
    "mlflow.end_run()"
   ],
   "metadata": {
    "collapsed": false
   }
  },
  {
   "cell_type": "code",
   "execution_count": 6,
   "outputs": [
    {
     "name": "stdout",
     "output_type": "stream",
     "text": [
      "Predicted CCS: [8.95680537e-36]\n"
     ]
    },
    {
     "name": "stderr",
     "output_type": "stream",
     "text": [
      "/Users/mad_hatter/.conda/envs/PBL/lib/python3.10/site-packages/sklearn/base.py:439: UserWarning: X does not have valid feature names, but LinearSVR was fitted with feature names\n",
      "  warnings.warn(\n"
     ]
    }
   ],
   "source": [
    "# Input the m/z value of the peptide you want to predict the CCS of\n",
    "mz = 1074.04135\n",
    "# Predict the CCS of the peptide\n",
    "ccs = final_model.predict([[mz]])\n",
    "# Reverse the log transformation\n",
    "ccs = np.exp(ccs)\n",
    "print(\"Predicted CCS:\", ccs)"
   ],
   "metadata": {
    "collapsed": false
   }
  },
  {
   "cell_type": "markdown",
   "source": [
    "Save the model"
   ],
   "metadata": {
    "collapsed": false
   }
  },
  {
   "cell_type": "code",
   "execution_count": 8,
   "outputs": [],
   "source": [
    "# Save the model to a file\n",
    "filename = '/Users/mad_hatter/Desktop/Bioinfo/PBL/models/SVR/LinearSVR.pkl'\n",
    "pickle.dump(model, open(filename, 'wb'))"
   ],
   "metadata": {
    "collapsed": false
   }
  }
 ],
 "metadata": {
  "kernelspec": {
   "display_name": "Python 3",
   "language": "python",
   "name": "python3"
  },
  "language_info": {
   "codemirror_mode": {
    "name": "ipython",
    "version": 2
   },
   "file_extension": ".py",
   "mimetype": "text/x-python",
   "name": "python",
   "nbconvert_exporter": "python",
   "pygments_lexer": "ipython2",
   "version": "2.7.6"
  }
 },
 "nbformat": 4,
 "nbformat_minor": 0
}

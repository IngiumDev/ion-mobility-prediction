{
 "cells": [
  {
   "cell_type": "code",
   "execution_count": 3,
   "metadata": {
    "collapsed": true
   },
   "outputs": [],
   "source": [
    "from sklearn.model_selection import cross_val_score, KFold\n",
    "import numpy as np\n",
    "import pandas as pd\n",
    "from sklearn.model_selection import train_test_split\n",
    "from sklearn.metrics import mean_squared_error\n",
    "import pickle\n",
    "from sklearn.svm import SVR\n",
    "from sklearn.model_selection import GridSearchCV"
   ]
  },
  {
   "cell_type": "markdown",
   "source": [
    "Load  data into a  DataFrame"
   ],
   "metadata": {
    "collapsed": false
   }
  },
  {
   "cell_type": "code",
   "execution_count": 4,
   "outputs": [
    {
     "name": "stderr",
     "output_type": "stream",
     "text": [
      "/var/folders/sr/wyqzncnn2vd6vrgm99v9cz7w0000gp/T/ipykernel_2489/1061432787.py:6: SettingWithCopyWarning: \n",
      "A value is trying to be set on a copy of a slice from a DataFrame.\n",
      "Try using .loc[row_indexer,col_indexer] = value instead\n",
      "\n",
      "See the caveats in the documentation: https://pandas.pydata.org/pandas-docs/stable/user_guide/indexing.html#returning-a-view-versus-a-copy\n",
      "  mb_clean_frame['CCS'] = mb_clean_frame['CCS'].apply(lambda x: np.log(x))\n"
     ]
    }
   ],
   "source": [
    "mb_raw_data = pd.read_csv('/Users/mad_hatter/Desktop/Bioinfo/PBL/data/mann_bruker.txt', sep='\\t')\n",
    "mb_data_frame = pd.DataFrame(mb_raw_data)\n",
    "# Delete all columns except Sequence, m/z, and CCS\n",
    "mb_clean_frame = mb_data_frame[['Sequence', 'm/z', 'CCS']]\n",
    "# Log transform CCS values\n",
    "mb_clean_frame['CCS'] = mb_clean_frame['CCS'].apply(lambda x: np.log(x))"
   ],
   "metadata": {
    "collapsed": false
   }
  },
  {
   "cell_type": "markdown",
   "source": [
    "Train model"
   ],
   "metadata": {
    "collapsed": false
   }
  },
  {
   "cell_type": "code",
   "execution_count": 5,
   "outputs": [],
   "source": [
    "# Split the data into input (m/z) and output (CCS) variables\n",
    "X = mb_clean_frame[['m/z']]\n",
    "y = mb_clean_frame['CCS']\n",
    "# Define the number of folds\n",
    "k = 4"
   ],
   "metadata": {
    "collapsed": false
   }
  },
  {
   "cell_type": "markdown",
   "source": [
    "Perform k-fold cross validation\n"
   ],
   "metadata": {
    "collapsed": false
   }
  },
  {
   "cell_type": "code",
   "execution_count": null,
   "outputs": [],
   "source": [
    "# Initialize the cross-validation object\n",
    "kf = KFold(n_splits=k)\n",
    "\n",
    "# Initialize a list to store the MSE for each fold\n",
    "mse_scores = []\n",
    "median_relative_errors = []\n",
    "\n",
    "# Perform k-fold cross-validation\n",
    "for train_index, test_index in kf.split(X):\n",
    "    # Split the data into training and testing sets for the current fold\n",
    "    X_train, X_test = X.iloc[train_index], X.iloc[test_index]\n",
    "    y_train, y_test = y.iloc[train_index], y.iloc[test_index]\n",
    "\n",
    "    # Create a random forest regressor model\n",
    "    model = SVR(epsilon=0, kernel='rbf')\n",
    "\n",
    "    # Train the model\n",
    "    model.fit(X_train, y_train)\n",
    "\n",
    "    # Make predictions on the test set\n",
    "    y_pred = model.predict(X_test)\n",
    "\n",
    "    # Calculate the MSE for the current fold\n",
    "    mse = mean_squared_error(y_test, y_pred)\n",
    "    mse_scores.append(mse)\n",
    "\n",
    "    relative_errors = np.abs((y_pred - y_test) / y_test)\n",
    "    median_relative_error = np.median(relative_errors)\n",
    "    median_relative_errors.append(median_relative_error)\n",
    "\n",
    "# Find the index of the fold with the lowest MSE\n",
    "best_fold_index = mse_scores.index(min(mse_scores))\n",
    "# Split the data into training and testing sets for the best fold\n",
    "X_train_best, X_test_best = X.iloc[kf.split(X).__next__()[0]], X.iloc[kf.split(X).__next__()[1]]\n",
    "y_train_best, y_test_best = y.iloc[kf.split(y).__next__()[0]], y.iloc[kf.split(y).__next__()[1]]\n",
    "\n",
    "# Create the final model using the best fold\n",
    "final_model = SVR(kernel='rbf')\n",
    "final_model.fit(X_train_best, y_train_best)\n",
    "\n",
    "# Make predictions on the test set using the final model\n",
    "y_pred_best = final_model.predict(X_test_best)\n",
    "\n",
    "# Calculate the MSE for the best fold\n",
    "best_mse = mean_squared_error(y_test_best, y_pred_best)\n",
    "print(\"Best Mean Squared Error:\", best_mse)\n",
    "# Print all mse scores\n",
    "print(\"All Mean Squared Errors:\", mse_scores)\n",
    "# Print the median of the relative errors for each fold\n",
    "print(\"Median Relative Errors:\", median_relative_errors)"
   ],
   "metadata": {
    "collapsed": false,
    "pycharm": {
     "is_executing": true
    }
   }
  },
  {
   "cell_type": "markdown",
   "source": [
    "Alternative approach: Grid search\n"
   ],
   "metadata": {
    "collapsed": false
   }
  },
  {
   "cell_type": "code",
   "execution_count": null,
   "outputs": [],
   "source": [
    "# Initialize the cross-validation object\n",
    "kf = KFold(n_splits=k)\n",
    "\n",
    "# Perform k-fold cross-validation\n",
    "for train_index, test_index in kf.split(X):\n",
    "    # Split the data into training and testing sets for the current fold\n",
    "    X_train, X_test = X.iloc[train_index], X.iloc[test_index]\n",
    "    y_train, y_test = y.iloc[train_index], y.iloc[test_index]\n",
    "\n",
    "    # Define the parameter grid for grid search\n",
    "    param_grid = {\n",
    "    'C': [0.1, 1.0, 10.0],\n",
    "    'gamma': [0.1, 1.0, 10.0]\n",
    "    }\n",
    "    # Create a random forest regressor model\n",
    "    model = SVR(epsilon=0, kernel='rbf')\n",
    "\n",
    "    # perform grid search to tune hyperparameters\n",
    "    grid_search = GridSearchCV(model, param_grid, n_jobs=3)\n",
    "    grid_search.fit(X_train, y_train)\n",
    "    best_parameters = grid_search.best_params_\n",
    "\n",
    "    # train model with best parameters\n",
    "    best_model = SVR(**best_parameters)\n",
    "    best_model.fit(X_train, y_train)"
   ],
   "metadata": {
    "collapsed": false
   }
  },
  {
   "cell_type": "code",
   "execution_count": null,
   "outputs": [],
   "source": [
    "# Input the m/z value of the peptide you want to predict the CCS of\n",
    "mz = 1074.04135\n",
    "# Predict the CCS of the peptide\n",
    "ccs = final_model.predict([[mz]])\n",
    "# Reverse the log transformation\n",
    "ccs = np.exp(ccs)\n",
    "print(\"Predicted CCS:\", ccs)"
   ],
   "metadata": {
    "collapsed": false
   }
  },
  {
   "cell_type": "code",
   "execution_count": null,
   "outputs": [],
   "source": [
    "# Save the model to a file\n",
    "filename = '/Users/mad_hatter/Desktop/Bioinfo/PBL/models/SVR/SVR.pkl'\n",
    "pickle.dump(model, open(filename, 'wb'))"
   ],
   "metadata": {
    "collapsed": false
   }
  }
 ],
 "metadata": {
  "kernelspec": {
   "display_name": "Python 3",
   "language": "python",
   "name": "python3"
  },
  "language_info": {
   "codemirror_mode": {
    "name": "ipython",
    "version": 2
   },
   "file_extension": ".py",
   "mimetype": "text/x-python",
   "name": "python",
   "nbconvert_exporter": "python",
   "pygments_lexer": "ipython2",
   "version": "2.7.6"
  }
 },
 "nbformat": 4,
 "nbformat_minor": 0
}

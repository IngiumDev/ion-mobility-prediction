{
 "cells": [
  {
   "cell_type": "markdown",
   "source": [
    "Import Dependencies"
   ],
   "metadata": {
    "collapsed": false
   }
  },
  {
   "cell_type": "code",
   "execution_count": 1,
   "metadata": {
    "collapsed": true,
    "ExecuteTime": {
     "end_time": "2023-06-29T14:23:43.661193100Z",
     "start_time": "2023-06-29T14:23:35.186736600Z"
    }
   },
   "outputs": [],
   "source": [
    "from sklearn.ensemble import RandomForestRegressor\n",
    "from sklearn.model_selection import cross_val_score, KFold\n",
    "import numpy as np\n",
    "import pandas as pd\n",
    "from sklearn.model_selection import train_test_split\n",
    "from sklearn.metrics import mean_squared_error"
   ]
  },
  {
   "cell_type": "markdown",
   "source": [
    "Load  data into a  DataFrame"
   ],
   "metadata": {
    "collapsed": false
   }
  },
  {
   "cell_type": "code",
   "execution_count": 2,
   "outputs": [
    {
     "name": "stderr",
     "output_type": "stream",
     "text": [
      "C:\\Users\\Simon\\AppData\\Local\\Temp\\ipykernel_2336\\3543134388.py:6: SettingWithCopyWarning: \n",
      "A value is trying to be set on a copy of a slice from a DataFrame.\n",
      "Try using .loc[row_indexer,col_indexer] = value instead\n",
      "\n",
      "See the caveats in the documentation: https://pandas.pydata.org/pandas-docs/stable/user_guide/indexing.html#returning-a-view-versus-a-copy\n",
      "  mb_clean_frame['CCS'] = mb_clean_frame['CCS'].apply(lambda x: np.log(x))\n"
     ]
    }
   ],
   "source": [
    "mb_raw_data = pd.read_csv('C:\\\\Users\\\\Simon\\\\PycharmProjects\\\\ion-mobility-prediction\\\\data\\\\mann_bruker.txt', sep='\\t')\n",
    "mb_data_frame = pd.DataFrame(mb_raw_data)\n",
    "# Delete all columns except Sequence, m/z, and CCS\n",
    "mb_clean_frame = mb_data_frame[['Sequence', 'm/z', 'CCS']]\n",
    "# Log transform CCS values\n",
    "mb_clean_frame['CCS'] = mb_clean_frame['CCS'].apply(lambda x: np.log(x))"
   ],
   "metadata": {
    "collapsed": false,
    "ExecuteTime": {
     "end_time": "2023-06-29T14:23:57.910472500Z",
     "start_time": "2023-06-29T14:23:53.927488800Z"
    }
   }
  },
  {
   "cell_type": "markdown",
   "source": [
    "Train Model"
   ],
   "metadata": {
    "collapsed": false
   }
  },
  {
   "cell_type": "code",
   "execution_count": 13,
   "outputs": [],
   "source": [
    "# Split the data into input (m/z) and output (CCS) variables\n",
    "X = mb_clean_frame[['m/z']]\n",
    "y = mb_clean_frame['CCS']\n",
    "# Define the number of folds\n",
    "k = 10"
   ],
   "metadata": {
    "collapsed": false,
    "ExecuteTime": {
     "end_time": "2023-06-29T14:46:14.893312Z",
     "start_time": "2023-06-29T14:46:14.875032800Z"
    }
   }
  },
  {
   "cell_type": "markdown",
   "source": [
    "Perform k-fold cross validation"
   ],
   "metadata": {
    "collapsed": false
   }
  },
  {
   "cell_type": "code",
   "execution_count": 19,
   "outputs": [
    {
     "name": "stdout",
     "output_type": "stream",
     "text": [
      "Best Mean Squared Error: 0.11222333237725778\n",
      "All Mean Squared Errors: [0.11222333237725778, 0.11771390447756146, 0.10161258213875339, 0.10545093977804229]\n"
     ]
    }
   ],
   "source": [
    "# Initialize the cross-validation object\n",
    "kf = KFold(n_splits=k)\n",
    "\n",
    "# Initialize a list to store the MSE for each fold\n",
    "mse_scores = []\n",
    "\n",
    "# Perform k-fold cross-validation\n",
    "for train_index, test_index in kf.split(X):\n",
    "    # Split the data into training and testing sets for the current fold\n",
    "    X_train, X_test = X.iloc[train_index], X.iloc[test_index]\n",
    "    y_train, y_test = y.iloc[train_index], y.iloc[test_index]\n",
    "\n",
    "    # Create a random forest regressor model\n",
    "    model = RandomForestRegressor(n_estimators=20, random_state=1)\n",
    "\n",
    "    # Train the model\n",
    "    model.fit(X_train, y_train)\n",
    "\n",
    "    # Make predictions on the test set\n",
    "    y_pred = model.predict(X_test)\n",
    "\n",
    "    # Calculate the MSE for the current fold\n",
    "    mse = mean_squared_error(y_test, y_pred)\n",
    "    mse_scores.append(mse)\n",
    "\n",
    "# Find the index of the fold with the lowest MSE\n",
    "best_fold_index = mse_scores.index(min(mse_scores))\n",
    "# Split the data into training and testing sets for the best fold\n",
    "X_train_best, X_test_best = X.iloc[kf.split(X).__next__()[0]], X.iloc[kf.split(X).__next__()[1]]\n",
    "y_train_best, y_test_best = y.iloc[kf.split(y).__next__()[0]], y.iloc[kf.split(y).__next__()[1]]\n",
    "\n",
    "# Create the final model using the best fold\n",
    "final_model = RandomForestRegressor(n_estimators=20, random_state=1)\n",
    "final_model.fit(X_train_best, y_train_best)\n",
    "\n",
    "# Make predictions on the test set using the final model\n",
    "y_pred_best = final_model.predict(X_test_best)\n",
    "\n",
    "# Calculate the MSE for the best fold\n",
    "best_mse = mean_squared_error(y_test_best, y_pred_best)\n",
    "print(\"Best Mean Squared Error:\", best_mse)\n",
    "# Print all mse scores\n",
    "print(\"All Mean Squared Errors:\", mse_scores)"
   ],
   "metadata": {
    "collapsed": false,
    "ExecuteTime": {
     "end_time": "2023-06-29T15:25:27.964050Z",
     "start_time": "2023-06-29T15:23:14.387361Z"
    }
   }
  }
 ],
 "metadata": {
  "kernelspec": {
   "display_name": "Python 3",
   "language": "python",
   "name": "python3"
  },
  "language_info": {
   "codemirror_mode": {
    "name": "ipython",
    "version": 2
   },
   "file_extension": ".py",
   "mimetype": "text/x-python",
   "name": "python",
   "nbconvert_exporter": "python",
   "pygments_lexer": "ipython2",
   "version": "2.7.6"
  }
 },
 "nbformat": 4,
 "nbformat_minor": 0
}

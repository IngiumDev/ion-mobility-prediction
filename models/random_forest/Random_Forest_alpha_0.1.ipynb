{
 "cells": [
  {
   "cell_type": "markdown",
   "metadata": {},
   "source": [
    "Import Dependencies"
   ]
  },
  {
   "cell_type": "code",
   "metadata": {
    "collapsed": true
   },
   "outputs": [],
   "source": [
    "from sklearn.ensemble import RandomForestRegressor\n",
    "from sklearn.model_selection import cross_val_score, KFold,learning_curve\n",
    "import numpy as np\n",
    "import pandas as pd\n",
    "from sklearn.model_selection import train_test_split\n",
    "from sklearn.metrics import mean_squared_error, r2_score\n",
    "import pickle\n",
    "import matplotlib.pyplot as plt\n",
    "import time"
   ],
   "execution_count": null
  },
  {
   "cell_type": "markdown",
   "metadata": {},
   "source": [
    "Load  data into a  DataFrame"
   ]
  },
  {
   "cell_type": "code",
   "outputs": [],
   "source": [
    "mb_raw_data = pd.read_csv('/Users/simon/PycharmProjects/ion-mobility-prediction/data/mann_bruker.txt', sep='\\t')\n",
    "mb_data_frame = pd.DataFrame(mb_raw_data)\n",
    "# Delete all columns except Sequence, m/z, and CCS\n",
    "mb_clean_frame = mb_data_frame[['Sequence', 'm/z', 'CCS']]\n",
    "# Log transform CCS values\n",
    "mb_clean_frame['CCS_ln'] = mb_clean_frame['CCS'].apply(lambda x: np.log(x))"
   ],
   "metadata": {},
   "execution_count": null
  },
  {
   "cell_type": "markdown",
   "metadata": {},
   "source": [
    "Train Model"
   ]
  },
  {
   "cell_type": "code",
   "execution_count": null,
   "outputs": [],
   "source": [
    "# Split the data into input (m/z) and output (CCS) variables\n",
    "X = mb_clean_frame[['m/z']]\n",
    "y = mb_clean_frame['CCS_ln']\n",
    "# Define the number of folds\n",
    "k = 4\n",
    "# Number of trees\n",
    "n = 10"
   ],
   "metadata": {
    "collapsed": false
   }
  },
  {
   "cell_type": "markdown",
   "metadata": {},
   "source": [
    "Perform k-fold cross validation"
   ]
  },
  {
   "cell_type": "code",
   "metadata": {},
   "outputs": [],
   "source": [
    "# Start logging time in ms without\n",
    "start_time = time.time()\n",
    "# Initialize the cross-validation object\n",
    "kf = KFold(n_splits=k)\n",
    "\n",
    "# Initialize a list to store the MSE for each fold\n",
    "mse_scores = []\n",
    "median_relative_errors = []\n",
    "r2_scores = []\n",
    "\n",
    "# Perform k-fold cross-validation\n",
    "for train_index, test_index in kf.split(X):\n",
    "    # Split the data into training and testing sets for the current fold\n",
    "    X_train, X_test = X.iloc[train_index], X.iloc[test_index]\n",
    "    y_train, y_test = y.iloc[train_index], y.iloc[test_index]\n",
    "\n",
    "    # Create a random forest regressor model\n",
    "    model = RandomForestRegressor(n_estimators=n, random_state=1,n_jobs=-1)\n",
    "\n",
    "    # Train the model\n",
    "    model.fit(X_train, y_train)\n",
    "\n",
    "    # Make predictions on the test set\n",
    "    y_pred = model.predict(X_test)\n",
    "\n",
    "    # Calculate the MSE for the current fold\n",
    "    mse = mean_squared_error(y_test, y_pred)\n",
    "    mse_scores.append(mse)\n",
    "    # Calculate the median relative error for the current fold\n",
    "    relative_errors = np.abs((y_pred - y_test) / y_test)\n",
    "    median_relative_error = np.median(relative_errors)\n",
    "    median_relative_errors.append(median_relative_error)\n",
    "    # Calculate the R^2 score for the current fold\n",
    "    r2 = r2_score(y_test, y_pred)\n",
    "    r2_scores.append(r2)\n",
    "    # Progress update\n",
    "    print(\"Fold:\", len(mse_scores))\n",
    "\n",
    "# Create the final model\n",
    "final_model = RandomForestRegressor(n_estimators=n, random_state=1,n_jobs=-1)\n",
    "final_model.fit(X, y)\n",
    "# Print all mse scores\n",
    "#print(\"All Mean Squared Errors:\", mse_scores)\n",
    "# Average the MSE scores\n",
    "average_mse = np.mean(mse_scores)\n",
    "# Print the average MSE score\n",
    "print(\"Average Mean Squared Error:\", average_mse)\n",
    "# Print the median of the relative errors for each fold\n",
    "#print(\"Median Relative Errors:\", median_relative_errors)\n",
    "# print the average of the median relative errors\n",
    "print(\"Average Median Relative Error:\", np.mean(median_relative_errors))\n",
    "# Print the R^2 scores for each fold\n",
    "#print(\"R^2 Scores:\", r2_score)\n",
    "# Print the average R^2 score\n",
    "print(\"Average R^2 Score:\", np.mean(r2_scores))\n",
    "# Calculate the elapsed time\n",
    "elapsed_time = time.time() - start_time\n",
    "\n",
    "# Print the elapsed time\n",
    "print(f'Time elapsed: {elapsed_time:.2f} seconds')\n",
    "print(str(n) + \"\\t\" + str(average_mse) + \"\\t\" + str(np.mean(median_relative_errors)) + \"\\t\" + str(np.mean(r2_scores)) + \"\\t\" + str(elapsed_time))"
   ],
   "execution_count": null
  },
  {
   "cell_type": "code",
   "execution_count": null,
   "outputs": [],
   "source": [
    "from sklearn.model_selection import learning_curve\n",
    "\n",
    "# Define the sizes of the training sets to use\n",
    "train_sizes = np.linspace(0.1, 1.0, 10)\n",
    "\n",
    "# Calculate the learning curve\n",
    "train_sizes, train_scores, test_scores = learning_curve(\n",
    "    RandomForestRegressor(n_estimators=n, random_state=1,n_jobs=-1),\n",
    "    X,\n",
    "    y,\n",
    "    train_sizes=train_sizes,\n",
    "    cv=k,\n",
    "    scoring='neg_mean_squared_error',\n",
    "    n_jobs=-1\n",
    ")\n",
    "\n",
    "# Calculate the average training and test scores\n",
    "train_scores_mean = -np.mean(train_scores, axis=1)\n",
    "test_scores_mean = -np.mean(test_scores, axis=1)\n",
    "\n",
    "# Plot the learning curve\n",
    "plt.plot(train_sizes, train_scores_mean, label='Training score')\n",
    "plt.plot(train_sizes, test_scores_mean, label='Cross-validation score')\n",
    "plt.xlabel('Training set size')\n",
    "plt.ylabel('MSE')\n",
    "plt.legend()\n",
    "plt.show()\n"
   ],
   "metadata": {
    "collapsed": false
   }
  },
  {
   "cell_type": "code",
   "metadata": {},
   "outputs": [],
   "source": [
    "# Input the m/z value of the peptide you want to predict the CCS of\n",
    "mz = 1074.04135\n",
    "# Predict the CCS of the peptide\n",
    "ccs = final_model.predict([[mz]])\n",
    "# Reverse the log transformation\n",
    "ccs = np.exp(ccs)\n",
    "print(\"Predicted CCS:\", ccs)"
   ],
   "execution_count": null
  },
  {
   "cell_type": "markdown",
   "metadata": {},
   "source": [
    "Save the model"
   ]
  },
  {
   "cell_type": "code",
   "source": [
    "'''# Add a column to the data frame with the length of each peptide sequence\n",
    "mb_clean_frame['Sequence Length'] = mb_clean_frame['Sequence'].apply(lambda x: len(x))\n",
    "# Predict the CCS of the peptides in the data frame\n",
    "mb_clean_frame['Predicted CCS'] = final_model.predict(mb_clean_frame[['m/z']])\n",
    "# Reverse the log transformation\n",
    "mb_clean_frame['Predicted CCS'] = np.exp(mb_clean_frame['Predicted CCS'])'''"
   ],
   "outputs": [],
   "metadata": {},
   "execution_count": null
  },
  {
   "cell_type": "code",
   "execution_count": null,
   "metadata": {},
   "outputs": [],
   "source": [
    "# Create a scatter plot of the error between the predicted and actual CCS values by sequence length. X = Experimental CCS, Y = Predicted CCS, Color = Sequence Length, Colormap = cool, alpha = 0.01\n",
    "mb_clean_frame.plot.scatter(\n",
    "    x='CCS',\n",
    "    y='Predicted CCS',\n",
    "    c='Sequence Length',\n",
    "    cmap='winter',\n",
    "    alpha=0.2,\n",
    "    vmin=mb_clean_frame['Sequence Length'].min(),\n",
    "    vmax=mb_clean_frame['Sequence Length'].max()\n",
    ")\n",
    "mb_clean_frame.plot.hexbin(\n",
    "    x='CCS',\n",
    "    y='Predicted CCS',\n",
    "    C='Sequence Length',\n",
    "    reduce_C_function=np.mean,\n",
    "    gridsize=50,\n",
    "    cmap='magma'\n",
    ")\n",
    "\n",
    "# Print the Spearman's correlation coefficient between the predicted and actual CCS values\n",
    "print(\"Spearman's Correlation Coefficient:\", mb_clean_frame['CCS'].corr(mb_clean_frame['Predicted CCS'], method='spearman'))\n",
    "#Now we want to create a plot with percent error between CCS and Predictes CCS and graph that by sequence length\n",
    "mb_clean_frame['Percent Error'] = np.abs((mb_clean_frame['Predicted CCS'] - mb_clean_frame['CCS']) / mb_clean_frame['CCS'])\n",
    "mb_clean_frame.plot.scatter(\n",
    "    x='Sequence Length',\n",
    "    y='Percent Error',\n",
    "    alpha=0.2,\n",
    "    vmin=mb_clean_frame['Sequence Length'].min(),\n",
    "    vmax=mb_clean_frame['Sequence Length'].max()\n",
    ")"
   ]
  }
 ],
 "metadata": {
  "kernelspec": {
   "display_name": "Python 3 (ipykernel)",
   "language": "python",
   "name": "python3"
  },
  "language_info": {
   "codemirror_mode": {
    "name": "ipython",
    "version": 3
   },
   "file_extension": ".py",
   "mimetype": "text/x-python",
   "name": "python",
   "nbconvert_exporter": "python",
   "pygments_lexer": "ipython3",
   "version": "3.9.13"
  }
 },
 "nbformat": 4,
 "nbformat_minor": 1
}

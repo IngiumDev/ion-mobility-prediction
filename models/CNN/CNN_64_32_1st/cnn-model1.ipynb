{
 "cells": [
  {
   "cell_type": "markdown",
   "id": "da03bb6e",
   "metadata": {
    "papermill": {
     "duration": 0.006564,
     "end_time": "2023-12-15T10:46:17.944390",
     "exception": false,
     "start_time": "2023-12-15T10:46:17.937826",
     "status": "completed"
    },
    "tags": []
   },
   "source": [
    "Import data"
   ]
  },
  {
   "cell_type": "code",
   "execution_count": 1,
   "id": "2df18e86",
   "metadata": {
    "execution": {
     "iopub.execute_input": "2023-12-15T10:46:17.958676Z",
     "iopub.status.busy": "2023-12-15T10:46:17.958212Z",
     "iopub.status.idle": "2023-12-15T10:46:31.718126Z",
     "shell.execute_reply": "2023-12-15T10:46:31.717153Z"
    },
    "papermill": {
     "duration": 13.769956,
     "end_time": "2023-12-15T10:46:31.720579",
     "exception": false,
     "start_time": "2023-12-15T10:46:17.950623",
     "status": "completed"
    },
    "tags": []
   },
   "outputs": [],
   "source": [
    "\n",
    "import pandas as pd\n",
    "import tensorflow as tf\n",
    "from tensorflow.keras.models import Sequential, Model\n",
    "from tensorflow.keras.optimizers import Adam\n",
    "from tensorflow.keras.layers import Dense, Flatten, Conv1D, Input, Dense, LSTM, Dropout, concatenate, Bidirectional, ConvLSTM2D, Reshape, Conv2D,MaxPooling2D\n",
    "from sklearn.model_selection import train_test_split\n",
    "from tensorflow.keras.callbacks import EarlyStopping, ModelCheckpoint, ProgbarLogger, ModelCheckpoint\n",
    "from sklearn.metrics import mean_squared_error, r2_score, median_absolute_error\n",
    "import numpy as np\n",
    "import pandas as pd\n",
    "import matplotlib.pyplot as plt\n",
    "from scipy import stats\n",
    "from sklearn.preprocessing import OneHotEncoder, MinMaxScaler\n",
    "from tqdm import tqdm\n",
    "from sklearn.preprocessing import StandardScaler\n",
    "from sklearn.preprocessing import OneHotEncoder\n",
    "from tqdm import tqdm\n",
    "from sklearn.preprocessing import StandardScaler\n",
    "from tqdm import tqdm\n",
    "from keras.models import Model\n",
    "from sklearn.model_selection import train_test_split\n",
    "import pickle\n",
    "from sklearn.metrics import r2_score, mean_squared_error, median_absolute_error\n"
   ]
  },
  {
   "cell_type": "markdown",
   "id": "3ec7357c",
   "metadata": {
    "papermill": {
     "duration": 0.006042,
     "end_time": "2023-12-15T10:46:31.733237",
     "exception": false,
     "start_time": "2023-12-15T10:46:31.727195",
     "status": "completed"
    },
    "tags": []
   },
   "source": [
    "Enable GPU"
   ]
  },
  {
   "cell_type": "code",
   "execution_count": 2,
   "id": "77e5d6a9",
   "metadata": {
    "execution": {
     "iopub.execute_input": "2023-12-15T10:46:31.748437Z",
     "iopub.status.busy": "2023-12-15T10:46:31.747274Z",
     "iopub.status.idle": "2023-12-15T10:46:31.768695Z",
     "shell.execute_reply": "2023-12-15T10:46:31.767545Z"
    },
    "papermill": {
     "duration": 0.031397,
     "end_time": "2023-12-15T10:46:31.771128",
     "exception": false,
     "start_time": "2023-12-15T10:46:31.739731",
     "status": "completed"
    },
    "tags": []
   },
   "outputs": [
    {
     "name": "stdout",
     "output_type": "stream",
     "text": [
      "GPu not found\n",
      "Found GPU at: \n"
     ]
    }
   ],
   "source": [
    "device_name = tf.test.gpu_device_name()\n",
    "if device_name != '/device:GPU:0':\n",
    "    print(\"GPu not found\")\n",
    "  #raise SystemError('GPU device not found')\n",
    "\n",
    "print('Found GPU at: {}'.format(device_name))"
   ]
  },
  {
   "cell_type": "code",
   "execution_count": 3,
   "id": "3e8c5cf7",
   "metadata": {
    "execution": {
     "iopub.execute_input": "2023-12-15T10:46:31.786209Z",
     "iopub.status.busy": "2023-12-15T10:46:31.785005Z",
     "iopub.status.idle": "2023-12-15T10:46:31.793795Z",
     "shell.execute_reply": "2023-12-15T10:46:31.792363Z"
    },
    "papermill": {
     "duration": 0.019046,
     "end_time": "2023-12-15T10:46:31.796504",
     "exception": false,
     "start_time": "2023-12-15T10:46:31.777458",
     "status": "completed"
    },
    "tags": []
   },
   "outputs": [
    {
     "data": {
      "text/plain": [
       "'tpu = tf.distribute.cluster_resolver.TPUClusterResolver()\\ntf.config.experimental_connect_to_cluster(tpu)\\ntf.tpu.experimental.initialize_tpu_system(tpu)\\nstrategy = tf.distribute.experimental.TPUStrategy(tpu)'"
      ]
     },
     "execution_count": 3,
     "metadata": {},
     "output_type": "execute_result"
    }
   ],
   "source": [
    "'''tpu = tf.distribute.cluster_resolver.TPUClusterResolver()\n",
    "tf.config.experimental_connect_to_cluster(tpu)\n",
    "tf.tpu.experimental.initialize_tpu_system(tpu)\n",
    "strategy = tf.distribute.experimental.TPUStrategy(tpu)'''"
   ]
  },
  {
   "cell_type": "markdown",
   "id": "972c9767",
   "metadata": {
    "papermill": {
     "duration": 0.006239,
     "end_time": "2023-12-15T10:46:31.809260",
     "exception": false,
     "start_time": "2023-12-15T10:46:31.803021",
     "status": "completed"
    },
    "tags": []
   },
   "source": [
    "Preprocess data"
   ]
  },
  {
   "cell_type": "code",
   "execution_count": 4,
   "id": "1bdeb776",
   "metadata": {
    "execution": {
     "iopub.execute_input": "2023-12-15T10:46:31.824703Z",
     "iopub.status.busy": "2023-12-15T10:46:31.824274Z",
     "iopub.status.idle": "2023-12-15T10:46:41.475569Z",
     "shell.execute_reply": "2023-12-15T10:46:41.474654Z"
    },
    "papermill": {
     "duration": 9.662483,
     "end_time": "2023-12-15T10:46:41.478198",
     "exception": false,
     "start_time": "2023-12-15T10:46:31.815715",
     "status": "completed"
    },
    "tags": []
   },
   "outputs": [],
   "source": [
    "mb_raw_data = pd.read_csv('/kaggle/input/mann-bruker/mann_bruker.txt', sep='\\t')\n",
    "mb_clean_frame = mb_raw_data[['Modified sequence', 'm/z', 'CCS','Mass','Charge','Length']]\n",
    "mb_clean_frame = mb_clean_frame.groupby(['Modified sequence', 'Charge']).agg({'Mass':'median', 'CCS':'median','Length':'median'}).reset_index()\n",
    "del mb_raw_data\n",
    "\n",
    "\n",
    "mb_clean_frame['CCS_normalized'] = np.log(mb_clean_frame['CCS'])\n",
    "CCSscaler = MinMaxScaler()\n",
    "mb_clean_frame['CCS_normalized'] = CCSscaler.fit_transform(mb_clean_frame[['CCS_normalized']])\n",
    "\n",
    "\n",
    "encode_length = 52\n",
    "\n",
    "mb_clean_frame = mb_clean_frame.sample(frac=1, random_state=1)"
   ]
  },
  {
   "cell_type": "markdown",
   "id": "4b2f538e",
   "metadata": {
    "papermill": {
     "duration": 0.00644,
     "end_time": "2023-12-15T10:46:41.491100",
     "exception": false,
     "start_time": "2023-12-15T10:46:41.484660",
     "status": "completed"
    },
    "tags": []
   },
   "source": [
    "*Define* One Hot Encoder"
   ]
  },
  {
   "cell_type": "code",
   "execution_count": 5,
   "id": "50c64989",
   "metadata": {
    "execution": {
     "iopub.execute_input": "2023-12-15T10:46:41.505733Z",
     "iopub.status.busy": "2023-12-15T10:46:41.505333Z",
     "iopub.status.idle": "2023-12-15T10:46:41.512067Z",
     "shell.execute_reply": "2023-12-15T10:46:41.510917Z"
    },
    "papermill": {
     "duration": 0.016834,
     "end_time": "2023-12-15T10:46:41.514425",
     "exception": false,
     "start_time": "2023-12-15T10:46:41.497591",
     "status": "completed"
    },
    "tags": []
   },
   "outputs": [],
   "source": [
    "def normalize(seq):\n",
    "    seq = seq.replace('_', '')\n",
    "    seq = seq.replace('(ac)', 'a')\n",
    "    seq = seq.replace('M(ox)', 'm')\n",
    "    return seq\n",
    "\n",
    "    \n",
    "def one_hot_encode(seq, encoding):\n",
    "    mapping = dict(zip(encoding, range(len(encoding))))\n",
    "    if isinstance(seq, int):\n",
    "        seq = [seq]\n",
    "    seq2 = [mapping[i] for i in seq]\n",
    "    return np.eye(len(encoding))[seq2]\n"
   ]
  },
  {
   "cell_type": "markdown",
   "id": "aa059d9c",
   "metadata": {
    "papermill": {
     "duration": 0.006005,
     "end_time": "2023-12-15T10:46:41.526957",
     "exception": false,
     "start_time": "2023-12-15T10:46:41.520952",
     "status": "completed"
    },
    "tags": []
   },
   "source": [
    "Do one Hot"
   ]
  },
  {
   "cell_type": "code",
   "execution_count": 6,
   "id": "a90ba516",
   "metadata": {
    "execution": {
     "iopub.execute_input": "2023-12-15T10:46:41.541502Z",
     "iopub.status.busy": "2023-12-15T10:46:41.541092Z",
     "iopub.status.idle": "2023-12-15T10:46:51.271278Z",
     "shell.execute_reply": "2023-12-15T10:46:51.270131Z"
    },
    "papermill": {
     "duration": 9.740687,
     "end_time": "2023-12-15T10:46:51.274001",
     "exception": false,
     "start_time": "2023-12-15T10:46:41.533314",
     "status": "completed"
    },
    "tags": []
   },
   "outputs": [
    {
     "name": "stderr",
     "output_type": "stream",
     "text": [
      "100%|██████████| 236658/236658 [00:06<00:00, 35096.92it/s]\n"
     ]
    }
   ],
   "source": [
    "# B = acetyl n-term, O Oxidation (M)\n",
    "amino_acids = ['A', 'a', 'C', 'D', 'E', 'F', 'G', 'H', 'I', 'K', 'L', 'M', 'N', 'm', 'P', 'Q', 'R', 'S', 'T', 'V', 'W', 'Y', 'U', 'X']\n",
    "mb_clean_frame['Modified sequence normalized'] = mb_clean_frame['Modified sequence'].apply(normalize)\n",
    "sequences = mb_clean_frame['Modified sequence normalized']\n",
    "\n",
    "\n",
    "sequences = [list(seq[:encode_length].ljust(encode_length, 'X')) for seq in sequences]\n",
    "\n",
    "one_hot_sequences = [one_hot_encode(seq, amino_acids) for seq in tqdm(sequences)]\n",
    "\n",
    "charges = [1,2,3,4]\n",
    "charges_encoded = [one_hot_encode(charge, charges) for charge in mb_clean_frame['Charge']]\n",
    "charges_encoded = np.array(charges_encoded)\n",
    "charges_encoded = np.squeeze(charges_encoded, axis=1)\n",
    "\n",
    "mass_length = mb_clean_frame[['Mass', 'Length']].values\n",
    "\n",
    "\n",
    "mass_length_scaler = StandardScaler()\n",
    "mass_length_scaled = mass_length_scaler.fit_transform(mass_length)\n",
    "mass_charge_length = np.concatenate([mass_length_scaled, charges_encoded], axis=1)\n",
    "\n",
    "y = mb_clean_frame['CCS_normalized'].values"
   ]
  },
  {
   "cell_type": "code",
   "execution_count": 7,
   "id": "cb06632d",
   "metadata": {
    "execution": {
     "iopub.execute_input": "2023-12-15T10:46:51.297549Z",
     "iopub.status.busy": "2023-12-15T10:46:51.297155Z",
     "iopub.status.idle": "2023-12-15T10:46:52.383719Z",
     "shell.execute_reply": "2023-12-15T10:46:52.382311Z"
    },
    "papermill": {
     "duration": 1.101549,
     "end_time": "2023-12-15T10:46:52.386357",
     "exception": false,
     "start_time": "2023-12-15T10:46:51.284808",
     "status": "completed"
    },
    "tags": []
   },
   "outputs": [
    {
     "name": "stdout",
     "output_type": "stream",
     "text": [
      "(236658, 52, 24)\n"
     ]
    }
   ],
   "source": [
    "one_hot_sequences_array = np.array(one_hot_sequences)\n",
    "print(one_hot_sequences_array.shape)"
   ]
  },
  {
   "cell_type": "markdown",
   "id": "8a3a9483",
   "metadata": {
    "papermill": {
     "duration": 0.010165,
     "end_time": "2023-12-15T10:46:52.407303",
     "exception": false,
     "start_time": "2023-12-15T10:46:52.397138",
     "status": "completed"
    },
    "tags": []
   },
   "source": [
    "# Train Model (LSTM)"
   ]
  },
  {
   "cell_type": "code",
   "execution_count": 8,
   "id": "052ac957",
   "metadata": {
    "execution": {
     "iopub.execute_input": "2023-12-15T10:46:52.430979Z",
     "iopub.status.busy": "2023-12-15T10:46:52.430562Z",
     "iopub.status.idle": "2023-12-15T10:46:52.438943Z",
     "shell.execute_reply": "2023-12-15T10:46:52.437665Z"
    },
    "papermill": {
     "duration": 0.022707,
     "end_time": "2023-12-15T10:46:52.441236",
     "exception": false,
     "start_time": "2023-12-15T10:46:52.418529",
     "status": "completed"
    },
    "tags": []
   },
   "outputs": [
    {
     "data": {
      "text/plain": [
       "'X_train_seq, X_test_seq, X_train_mc, X_test_mc, y_train, y_test = train_test_split(one_hot_sequences, mass_charge_length, y, test_size=0.1, random_state=42)\\n\\nsequence_input = Input(shape=(None, len(amino_acids)), name=\"sequence_input\")\\nmass_charge_input = Input(shape=(6,), name=\"mass_charge_input\")\\n\\n\\nsequence_branch = Bidirectional(LSTM(512, activation=\\'tanh\\', return_sequences=True))(sequence_input)\\nsequence_branch = Dropout(0.2)(sequence_branch)\\nsequence_branch = Bidirectional(LSTM(512, activation=\\'tanh\\', return_sequences=True))(sequence_branch)\\nsequence_branch = Dropout(0.2)(sequence_branch)\\nsequence_branch = Bidirectional(LSTM(256, activation=\\'tanh\\'))(sequence_branch)\\n\\n\\n\\nmass_charge_branch = Dense(16, activation=\"relu\")(mass_charge_input)\\nmass_charge_branch = Dropout(0.2)(mass_charge_branch)\\nmass_charge_branch = Dense(8, activation=\"relu\")(mass_charge_branch)\\nmass_charge_branch = Dropout(0.2)(mass_charge_branch)\\n\\ncombined = concatenate([sequence_branch, mass_charge_branch])\\n\\nz = Dense(64, activation=\"relu\")(combined)\\nz = Dropout(0.2)(z)\\nz = Dense(32, activation=\"relu\")(z)\\nz = Dropout(0.2)(z)\\nz = Dense(16, activation=\"relu\")(z)\\nz = Dropout(0.2)(z)\\noutput = Dense(1, activation=\"sigmoid\", name=\"output\")(z)\\n\\n\\nmodel = Model(inputs=[sequence_input, mass_charge_input], outputs=output)\\n\\n\\noptimizer = Adam()\\nmodel.compile(optimizer=optimizer, loss=\\'huber\\', metrics=[\\'mse\\'])\\n\\npatience = 15\\nbatch_size = 32\\nepochs = 100\\ncheckpoint = ModelCheckpoint(\\'LSTM_best_checkpoint.h5\\', monitor=\\'val_loss\\', verbose=1, save_best_only=True, mode=\\'min\\')\\nearly_stopping = EarlyStopping(monitor=\\'val_loss\\', patience=patience)\\nprogress_bar = ProgbarLogger(count_mode=\\'steps\\', stateful_metrics=None)\\n\\n\\nhistory = model.fit([np.array(X_train_seq), np.array(X_train_mc)], np.array(y_train), validation_data=([np.array(X_test_seq), np.array(X_test_mc)], np.array(y_test)), batch_size=batch_size, epochs=epochs, callbacks=[checkpoint, early_stopping, progress_bar], verbose=1)'"
      ]
     },
     "execution_count": 8,
     "metadata": {},
     "output_type": "execute_result"
    }
   ],
   "source": [
    "'''X_train_seq, X_test_seq, X_train_mc, X_test_mc, y_train, y_test = train_test_split(one_hot_sequences, mass_charge_length, y, test_size=0.1, random_state=42)\n",
    "\n",
    "sequence_input = Input(shape=(None, len(amino_acids)), name=\"sequence_input\")\n",
    "mass_charge_input = Input(shape=(6,), name=\"mass_charge_input\")\n",
    "\n",
    "\n",
    "sequence_branch = Bidirectional(LSTM(512, activation='tanh', return_sequences=True))(sequence_input)\n",
    "sequence_branch = Dropout(0.2)(sequence_branch)\n",
    "sequence_branch = Bidirectional(LSTM(512, activation='tanh', return_sequences=True))(sequence_branch)\n",
    "sequence_branch = Dropout(0.2)(sequence_branch)\n",
    "sequence_branch = Bidirectional(LSTM(256, activation='tanh'))(sequence_branch)\n",
    "\n",
    "\n",
    "\n",
    "mass_charge_branch = Dense(16, activation=\"relu\")(mass_charge_input)\n",
    "mass_charge_branch = Dropout(0.2)(mass_charge_branch)\n",
    "mass_charge_branch = Dense(8, activation=\"relu\")(mass_charge_branch)\n",
    "mass_charge_branch = Dropout(0.2)(mass_charge_branch)\n",
    "\n",
    "combined = concatenate([sequence_branch, mass_charge_branch])\n",
    "\n",
    "z = Dense(64, activation=\"relu\")(combined)\n",
    "z = Dropout(0.2)(z)\n",
    "z = Dense(32, activation=\"relu\")(z)\n",
    "z = Dropout(0.2)(z)\n",
    "z = Dense(16, activation=\"relu\")(z)\n",
    "z = Dropout(0.2)(z)\n",
    "output = Dense(1, activation=\"sigmoid\", name=\"output\")(z)\n",
    "\n",
    "\n",
    "model = Model(inputs=[sequence_input, mass_charge_input], outputs=output)\n",
    "\n",
    "\n",
    "optimizer = Adam()\n",
    "model.compile(optimizer=optimizer, loss='huber', metrics=['mse'])\n",
    "\n",
    "patience = 15\n",
    "batch_size = 32\n",
    "epochs = 100\n",
    "checkpoint = ModelCheckpoint('LSTM_best_checkpoint.h5', monitor='val_loss', verbose=1, save_best_only=True, mode='min')\n",
    "early_stopping = EarlyStopping(monitor='val_loss', patience=patience)\n",
    "progress_bar = ProgbarLogger(count_mode='steps', stateful_metrics=None)\n",
    "\n",
    "\n",
    "history = model.fit([np.array(X_train_seq), np.array(X_train_mc)], np.array(y_train), validation_data=([np.array(X_test_seq), np.array(X_test_mc)], np.array(y_test)), batch_size=batch_size, epochs=epochs, callbacks=[checkpoint, early_stopping, progress_bar], verbose=1)'''"
   ]
  },
  {
   "cell_type": "markdown",
   "id": "28c0c251",
   "metadata": {
    "papermill": {
     "duration": 0.010427,
     "end_time": "2023-12-15T10:46:52.462453",
     "exception": false,
     "start_time": "2023-12-15T10:46:52.452026",
     "status": "completed"
    },
    "tags": []
   },
   "source": [
    "# Train model CNN"
   ]
  },
  {
   "cell_type": "code",
   "execution_count": 9,
   "id": "b1edf60c",
   "metadata": {
    "execution": {
     "iopub.execute_input": "2023-12-15T10:46:52.485547Z",
     "iopub.status.busy": "2023-12-15T10:46:52.485194Z",
     "iopub.status.idle": "2023-12-15T12:46:52.384853Z",
     "shell.execute_reply": "2023-12-15T12:46:52.383611Z"
    },
    "papermill": {
     "duration": 7199.914274,
     "end_time": "2023-12-15T12:46:52.387518",
     "exception": false,
     "start_time": "2023-12-15T10:46:52.473244",
     "status": "completed"
    },
    "tags": []
   },
   "outputs": [
    {
     "name": "stdout",
     "output_type": "stream",
     "text": [
      "Epoch 1/100\n",
      "6656/6656 [==============================] - ETA: 0s - loss: 0.0019 - mse: 0.0039\n",
      "Epoch 1: val_loss improved from inf to 0.00080, saving model to CNN_best_checkpoint.h5\n",
      "6656/6656 [==============================] - 168s 25ms/step - loss: 0.0019 - mse: 0.0039 - val_loss: 7.9796e-04 - val_mse: 0.0016\n",
      "Epoch 2/100\n",
      "6655/6656 [============================>.] - ETA: 0s - loss: 0.0010 - mse: 0.0021\n",
      "Epoch 2: val_loss improved from 0.00080 to 0.00050, saving model to CNN_best_checkpoint.h5\n",
      "6656/6656 [==============================] - 163s 25ms/step - loss: 0.0010 - mse: 0.0021 - val_loss: 4.9624e-04 - val_mse: 9.9249e-04\n",
      "Epoch 3/100\n",
      "6654/6656 [============================>.] - ETA: 0s - loss: 9.2626e-04 - mse: 0.0019\n",
      "Epoch 3: val_loss improved from 0.00050 to 0.00033, saving model to CNN_best_checkpoint.h5\n",
      "6656/6656 [==============================] - 168s 25ms/step - loss: 9.2613e-04 - mse: 0.0019 - val_loss: 3.3202e-04 - val_mse: 6.6404e-04\n",
      "Epoch 4/100\n",
      "6656/6656 [==============================] - ETA: 0s - loss: 8.6940e-04 - mse: 0.0017\n",
      "Epoch 4: val_loss did not improve from 0.00033\n",
      "6656/6656 [==============================] - 162s 24ms/step - loss: 8.6940e-04 - mse: 0.0017 - val_loss: 3.7386e-04 - val_mse: 7.4772e-04\n",
      "Epoch 5/100\n",
      "6655/6656 [============================>.] - ETA: 0s - loss: 8.3682e-04 - mse: 0.0017\n",
      "Epoch 5: val_loss improved from 0.00033 to 0.00030, saving model to CNN_best_checkpoint.h5\n",
      "6656/6656 [==============================] - 163s 24ms/step - loss: 8.3677e-04 - mse: 0.0017 - val_loss: 2.9780e-04 - val_mse: 5.9560e-04\n",
      "Epoch 6/100\n",
      "6656/6656 [==============================] - ETA: 0s - loss: 8.1479e-04 - mse: 0.0016\n",
      "Epoch 6: val_loss did not improve from 0.00030\n",
      "6656/6656 [==============================] - 167s 25ms/step - loss: 8.1479e-04 - mse: 0.0016 - val_loss: 3.0656e-04 - val_mse: 6.1311e-04\n",
      "Epoch 7/100\n",
      "6656/6656 [==============================] - ETA: 0s - loss: 7.8235e-04 - mse: 0.0016\n",
      "Epoch 7: val_loss improved from 0.00030 to 0.00029, saving model to CNN_best_checkpoint.h5\n",
      "6656/6656 [==============================] - 164s 25ms/step - loss: 7.8235e-04 - mse: 0.0016 - val_loss: 2.8996e-04 - val_mse: 5.7991e-04\n",
      "Epoch 8/100\n",
      "6656/6656 [==============================] - ETA: 0s - loss: 7.6666e-04 - mse: 0.0015\n",
      "Epoch 8: val_loss did not improve from 0.00029\n",
      "6656/6656 [==============================] - 169s 25ms/step - loss: 7.6666e-04 - mse: 0.0015 - val_loss: 3.7174e-04 - val_mse: 7.4349e-04\n",
      "Epoch 9/100\n",
      "6654/6656 [============================>.] - ETA: 0s - loss: 7.5063e-04 - mse: 0.0015\n",
      "Epoch 9: val_loss did not improve from 0.00029\n",
      "6656/6656 [==============================] - 165s 25ms/step - loss: 7.5054e-04 - mse: 0.0015 - val_loss: 3.1730e-04 - val_mse: 6.3461e-04\n",
      "Epoch 10/100\n",
      "6655/6656 [============================>.] - ETA: 0s - loss: 7.2093e-04 - mse: 0.0014\n",
      "Epoch 10: val_loss did not improve from 0.00029\n",
      "6656/6656 [==============================] - 165s 25ms/step - loss: 7.2094e-04 - mse: 0.0014 - val_loss: 3.3897e-04 - val_mse: 6.7794e-04\n",
      "Epoch 11/100\n",
      "6655/6656 [============================>.] - ETA: 0s - loss: 7.1936e-04 - mse: 0.0014\n",
      "Epoch 11: val_loss did not improve from 0.00029\n",
      "6656/6656 [==============================] - 165s 25ms/step - loss: 7.1930e-04 - mse: 0.0014 - val_loss: 3.4194e-04 - val_mse: 6.8388e-04\n",
      "Epoch 12/100\n",
      "6656/6656 [==============================] - ETA: 0s - loss: 6.9924e-04 - mse: 0.0014\n",
      "Epoch 12: val_loss did not improve from 0.00029\n",
      "6656/6656 [==============================] - 166s 25ms/step - loss: 6.9924e-04 - mse: 0.0014 - val_loss: 3.3883e-04 - val_mse: 6.7765e-04\n",
      "Epoch 13/100\n",
      "6656/6656 [==============================] - ETA: 0s - loss: 7.0647e-04 - mse: 0.0014\n",
      "Epoch 13: val_loss did not improve from 0.00029\n",
      "6656/6656 [==============================] - 166s 25ms/step - loss: 7.0647e-04 - mse: 0.0014 - val_loss: 3.5047e-04 - val_mse: 7.0094e-04\n",
      "Epoch 14/100\n",
      "6655/6656 [============================>.] - ETA: 0s - loss: 7.0239e-04 - mse: 0.0014\n",
      "Epoch 14: val_loss did not improve from 0.00029\n",
      "6656/6656 [==============================] - 167s 25ms/step - loss: 7.0248e-04 - mse: 0.0014 - val_loss: 3.2651e-04 - val_mse: 6.5303e-04\n",
      "Epoch 15/100\n",
      "6654/6656 [============================>.] - ETA: 0s - loss: 6.9581e-04 - mse: 0.0014\n",
      "Epoch 15: val_loss did not improve from 0.00029\n",
      "6656/6656 [==============================] - 167s 25ms/step - loss: 6.9571e-04 - mse: 0.0014 - val_loss: 2.9913e-04 - val_mse: 5.9826e-04\n",
      "Epoch 16/100\n",
      "6656/6656 [==============================] - ETA: 0s - loss: 6.8099e-04 - mse: 0.0014\n",
      "Epoch 16: val_loss did not improve from 0.00029\n",
      "6656/6656 [==============================] - 167s 25ms/step - loss: 6.8099e-04 - mse: 0.0014 - val_loss: 2.9184e-04 - val_mse: 5.8368e-04\n",
      "Epoch 17/100\n",
      "6654/6656 [============================>.] - ETA: 0s - loss: 6.7773e-04 - mse: 0.0014\n",
      "Epoch 17: val_loss improved from 0.00029 to 0.00028, saving model to CNN_best_checkpoint.h5\n",
      "6656/6656 [==============================] - 172s 26ms/step - loss: 6.7771e-04 - mse: 0.0014 - val_loss: 2.8316e-04 - val_mse: 5.6632e-04\n",
      "Epoch 18/100\n",
      "6656/6656 [==============================] - ETA: 0s - loss: 6.8456e-04 - mse: 0.0014\n",
      "Epoch 18: val_loss did not improve from 0.00028\n",
      "6656/6656 [==============================] - 166s 25ms/step - loss: 6.8456e-04 - mse: 0.0014 - val_loss: 2.9172e-04 - val_mse: 5.8344e-04\n",
      "Epoch 19/100\n",
      "6656/6656 [==============================] - ETA: 0s - loss: 6.5747e-04 - mse: 0.0013\n",
      "Epoch 19: val_loss improved from 0.00028 to 0.00025, saving model to CNN_best_checkpoint.h5\n",
      "6656/6656 [==============================] - 167s 25ms/step - loss: 6.5747e-04 - mse: 0.0013 - val_loss: 2.5198e-04 - val_mse: 5.0396e-04\n",
      "Epoch 20/100\n",
      "6655/6656 [============================>.] - ETA: 0s - loss: 6.5685e-04 - mse: 0.0013\n",
      "Epoch 20: val_loss did not improve from 0.00025\n",
      "6656/6656 [==============================] - 167s 25ms/step - loss: 6.5693e-04 - mse: 0.0013 - val_loss: 3.0792e-04 - val_mse: 6.1585e-04\n",
      "Epoch 21/100\n",
      "6656/6656 [==============================] - ETA: 0s - loss: 6.5311e-04 - mse: 0.0013\n",
      "Epoch 21: val_loss did not improve from 0.00025\n",
      "6656/6656 [==============================] - 169s 25ms/step - loss: 6.5311e-04 - mse: 0.0013 - val_loss: 3.2311e-04 - val_mse: 6.4621e-04\n",
      "Epoch 22/100\n",
      "6654/6656 [============================>.] - ETA: 0s - loss: 6.4177e-04 - mse: 0.0013\n",
      "Epoch 22: val_loss did not improve from 0.00025\n",
      "6656/6656 [==============================] - 166s 25ms/step - loss: 6.4175e-04 - mse: 0.0013 - val_loss: 2.6114e-04 - val_mse: 5.2228e-04\n",
      "Epoch 23/100\n",
      "6654/6656 [============================>.] - ETA: 0s - loss: 6.4383e-04 - mse: 0.0013\n",
      "Epoch 23: val_loss did not improve from 0.00025\n",
      "6656/6656 [==============================] - 168s 25ms/step - loss: 6.4376e-04 - mse: 0.0013 - val_loss: 2.9804e-04 - val_mse: 5.9608e-04\n",
      "Epoch 24/100\n",
      "6655/6656 [============================>.] - ETA: 0s - loss: 6.3999e-04 - mse: 0.0013\n",
      "Epoch 24: val_loss did not improve from 0.00025\n",
      "6656/6656 [==============================] - 169s 25ms/step - loss: 6.3998e-04 - mse: 0.0013 - val_loss: 3.5436e-04 - val_mse: 7.0873e-04\n",
      "Epoch 25/100\n",
      "6654/6656 [============================>.] - ETA: 0s - loss: 6.3505e-04 - mse: 0.0013\n",
      "Epoch 25: val_loss did not improve from 0.00025\n",
      "6656/6656 [==============================] - 171s 26ms/step - loss: 6.3502e-04 - mse: 0.0013 - val_loss: 2.6704e-04 - val_mse: 5.3409e-04\n",
      "Epoch 26/100\n",
      "6654/6656 [============================>.] - ETA: 0s - loss: 6.3606e-04 - mse: 0.0013\n",
      "Epoch 26: val_loss did not improve from 0.00025\n",
      "6656/6656 [==============================] - 172s 26ms/step - loss: 6.3623e-04 - mse: 0.0013 - val_loss: 3.1567e-04 - val_mse: 6.3135e-04\n",
      "Epoch 27/100\n",
      "6656/6656 [==============================] - ETA: 0s - loss: 6.2827e-04 - mse: 0.0013\n",
      "Epoch 27: val_loss did not improve from 0.00025\n",
      "6656/6656 [==============================] - 169s 25ms/step - loss: 6.2827e-04 - mse: 0.0013 - val_loss: 3.1852e-04 - val_mse: 6.3705e-04\n",
      "Epoch 28/100\n",
      "6654/6656 [============================>.] - ETA: 0s - loss: 6.2325e-04 - mse: 0.0012\n",
      "Epoch 28: val_loss improved from 0.00025 to 0.00025, saving model to CNN_best_checkpoint.h5\n",
      "6656/6656 [==============================] - 167s 25ms/step - loss: 6.2316e-04 - mse: 0.0012 - val_loss: 2.4555e-04 - val_mse: 4.9110e-04\n",
      "Epoch 29/100\n",
      "6656/6656 [==============================] - ETA: 0s - loss: 6.2896e-04 - mse: 0.0013\n",
      "Epoch 29: val_loss did not improve from 0.00025\n",
      "6656/6656 [==============================] - 169s 25ms/step - loss: 6.2896e-04 - mse: 0.0013 - val_loss: 2.5747e-04 - val_mse: 5.1494e-04\n",
      "Epoch 30/100\n",
      "6656/6656 [==============================] - ETA: 0s - loss: 6.2871e-04 - mse: 0.0013\n",
      "Epoch 30: val_loss did not improve from 0.00025\n",
      "6656/6656 [==============================] - 168s 25ms/step - loss: 6.2871e-04 - mse: 0.0013 - val_loss: 3.0282e-04 - val_mse: 6.0565e-04\n",
      "Epoch 31/100\n",
      "6655/6656 [============================>.] - ETA: 0s - loss: 6.2710e-04 - mse: 0.0013\n",
      "Epoch 31: val_loss did not improve from 0.00025\n",
      "6656/6656 [==============================] - 168s 25ms/step - loss: 6.2706e-04 - mse: 0.0013 - val_loss: 2.8657e-04 - val_mse: 5.7313e-04\n",
      "Epoch 32/100\n",
      "6655/6656 [============================>.] - ETA: 0s - loss: 6.2802e-04 - mse: 0.0013\n",
      "Epoch 32: val_loss did not improve from 0.00025\n",
      "6656/6656 [==============================] - 165s 25ms/step - loss: 6.2802e-04 - mse: 0.0013 - val_loss: 2.9445e-04 - val_mse: 5.8890e-04\n",
      "Epoch 33/100\n",
      "6654/6656 [============================>.] - ETA: 0s - loss: 6.2158e-04 - mse: 0.0012\n",
      "Epoch 33: val_loss did not improve from 0.00025\n",
      "6656/6656 [==============================] - 171s 26ms/step - loss: 6.2152e-04 - mse: 0.0012 - val_loss: 2.5391e-04 - val_mse: 5.0782e-04\n",
      "Epoch 34/100\n",
      "6655/6656 [============================>.] - ETA: 0s - loss: 6.2014e-04 - mse: 0.0012\n",
      "Epoch 34: val_loss did not improve from 0.00025\n",
      "6656/6656 [==============================] - 164s 25ms/step - loss: 6.2016e-04 - mse: 0.0012 - val_loss: 2.7621e-04 - val_mse: 5.5243e-04\n",
      "Epoch 35/100\n",
      "6656/6656 [==============================] - ETA: 0s - loss: 6.2371e-04 - mse: 0.0012\n",
      "Epoch 35: val_loss did not improve from 0.00025\n",
      "6656/6656 [==============================] - 166s 25ms/step - loss: 6.2371e-04 - mse: 0.0012 - val_loss: 2.7870e-04 - val_mse: 5.5739e-04\n",
      "Epoch 36/100\n",
      "6656/6656 [==============================] - ETA: 0s - loss: 6.1337e-04 - mse: 0.0012\n",
      "Epoch 36: val_loss did not improve from 0.00025\n",
      "6656/6656 [==============================] - 166s 25ms/step - loss: 6.1337e-04 - mse: 0.0012 - val_loss: 2.6192e-04 - val_mse: 5.2383e-04\n",
      "Epoch 37/100\n",
      "6656/6656 [==============================] - ETA: 0s - loss: 6.2550e-04 - mse: 0.0013\n",
      "Epoch 37: val_loss did not improve from 0.00025\n",
      "6656/6656 [==============================] - 166s 25ms/step - loss: 6.2550e-04 - mse: 0.0013 - val_loss: 2.6552e-04 - val_mse: 5.3104e-04\n",
      "Epoch 38/100\n",
      "6654/6656 [============================>.] - ETA: 0s - loss: 6.2097e-04 - mse: 0.0012\n",
      "Epoch 38: val_loss did not improve from 0.00025\n",
      "6656/6656 [==============================] - 173s 26ms/step - loss: 6.2094e-04 - mse: 0.0012 - val_loss: 2.6906e-04 - val_mse: 5.3812e-04\n",
      "Epoch 39/100\n",
      "6654/6656 [============================>.] - ETA: 0s - loss: 6.1389e-04 - mse: 0.0012\n",
      "Epoch 39: val_loss did not improve from 0.00025\n",
      "6656/6656 [==============================] - 165s 25ms/step - loss: 6.1389e-04 - mse: 0.0012 - val_loss: 2.7476e-04 - val_mse: 5.4952e-04\n",
      "Epoch 40/100\n",
      "6656/6656 [==============================] - ETA: 0s - loss: 6.1882e-04 - mse: 0.0012\n",
      "Epoch 40: val_loss did not improve from 0.00025\n",
      "6656/6656 [==============================] - 173s 26ms/step - loss: 6.1882e-04 - mse: 0.0012 - val_loss: 2.8074e-04 - val_mse: 5.6149e-04\n",
      "Epoch 41/100\n",
      "6654/6656 [============================>.] - ETA: 0s - loss: 6.0821e-04 - mse: 0.0012\n",
      "Epoch 41: val_loss did not improve from 0.00025\n",
      "6656/6656 [==============================] - 168s 25ms/step - loss: 6.0824e-04 - mse: 0.0012 - val_loss: 3.7891e-04 - val_mse: 7.5783e-04\n",
      "Epoch 42/100\n",
      "6656/6656 [==============================] - ETA: 0s - loss: 6.1661e-04 - mse: 0.0012\n",
      "Epoch 42: val_loss did not improve from 0.00025\n",
      "6656/6656 [==============================] - 168s 25ms/step - loss: 6.1661e-04 - mse: 0.0012 - val_loss: 2.5774e-04 - val_mse: 5.1547e-04\n",
      "Epoch 43/100\n",
      "6656/6656 [==============================] - ETA: 0s - loss: 6.1968e-04 - mse: 0.0012\n",
      "Epoch 43: val_loss did not improve from 0.00025\n",
      "6656/6656 [==============================] - 171s 26ms/step - loss: 6.1968e-04 - mse: 0.0012 - val_loss: 2.6928e-04 - val_mse: 5.3856e-04\n"
     ]
    }
   ],
   "source": [
    "X_train_seq, X_test_seq, X_train_mc, X_test_mc, y_train, y_test = train_test_split(one_hot_sequences, mass_charge_length, y, test_size=0.1, random_state=42)\n",
    "\n",
    "one_hot_sequences_array = np.array(one_hot_sequences)\n",
    "one_hot_sequences_array = one_hot_sequences_array.reshape(-1, 52, 24, 1)\n",
    "\n",
    "\n",
    "sequence_input_shape = (52, 24, 1)  # (time, rows, cols)\n",
    "\n",
    "sequence_input = Input(shape=sequence_input_shape, name=\"sequence_input\")\n",
    "\n",
    "mass_charge_input = Input(shape=(6,), name=\"mass_charge_input\")\n",
    "\n",
    "sequence_branch = Conv2D(32, (3, 3), activation='relu')(sequence_input)\n",
    "sequence_branch = MaxPooling2D((2, 2))(sequence_branch)\n",
    "sequence_branch = Conv2D(64, (3, 3), activation='relu')(sequence_branch)\n",
    "sequence_branch = MaxPooling2D((2, 2))(sequence_branch)\n",
    "sequence_branch = Flatten()(sequence_branch)\n",
    "\n",
    "\n",
    "mass_charge_branch = Dense(16, activation=\"relu\")(mass_charge_input)\n",
    "mass_charge_branch = Dropout(0.2)(mass_charge_branch)\n",
    "mass_charge_branch = Dense(8, activation=\"relu\")(mass_charge_branch)\n",
    "mass_charge_branch = Dropout(0.2)(mass_charge_branch)\n",
    "\n",
    "combined = concatenate([sequence_branch, mass_charge_branch])\n",
    "\n",
    "z = Dense(64, activation=\"relu\")(combined)\n",
    "z = Dropout(0.2)(z)\n",
    "z = Dense(32, activation=\"relu\")(z)\n",
    "z = Dropout(0.2)(z)\n",
    "z = Dense(16, activation=\"relu\")(z)\n",
    "z = Dropout(0.2)(z)\n",
    "output = Dense(1, activation=\"sigmoid\", name=\"output\")(z)\n",
    "\n",
    "\n",
    "model = Model(inputs=[sequence_input, mass_charge_input], outputs=output)\n",
    "\n",
    "\n",
    "optimizer = Adam()\n",
    "model.compile(optimizer=optimizer, loss='huber', metrics=['mse'])\n",
    "\n",
    "patience = 15\n",
    "batch_size = 32\n",
    "epochs = 100\n",
    "checkpoint = ModelCheckpoint('CNN_best_checkpoint.h5', monitor='val_loss', verbose=1, save_best_only=True, mode='min')\n",
    "early_stopping = EarlyStopping(monitor='val_loss', patience=patience)\n",
    "progress_bar = ProgbarLogger(count_mode='steps', stateful_metrics=None)\n",
    "\n",
    "\n",
    "history = model.fit([np.array(X_train_seq), np.array(X_train_mc)], np.array(y_train), validation_data=([np.array(X_test_seq), np.array(X_test_mc)], np.array(y_test)), batch_size=batch_size, epochs=epochs, callbacks=[checkpoint, early_stopping, progress_bar], verbose=1)"
   ]
  },
  {
   "cell_type": "markdown",
   "id": "4c1bfcb1",
   "metadata": {
    "papermill": {
     "duration": 7.029628,
     "end_time": "2023-12-15T12:47:06.276073",
     "exception": false,
     "start_time": "2023-12-15T12:46:59.246445",
     "status": "completed"
    },
    "tags": []
   },
   "source": [
    "# Resume Training"
   ]
  },
  {
   "cell_type": "code",
   "execution_count": 10,
   "id": "47386512",
   "metadata": {
    "execution": {
     "iopub.execute_input": "2023-12-15T12:47:20.506568Z",
     "iopub.status.busy": "2023-12-15T12:47:20.506149Z",
     "iopub.status.idle": "2023-12-15T12:47:20.513249Z",
     "shell.execute_reply": "2023-12-15T12:47:20.512191Z"
    },
    "papermill": {
     "duration": 7.02952,
     "end_time": "2023-12-15T12:47:20.515814",
     "exception": false,
     "start_time": "2023-12-15T12:47:13.486294",
     "status": "completed"
    },
    "tags": []
   },
   "outputs": [
    {
     "data": {
      "text/plain": [
       "\"X_train_seq, X_test_seq, X_train_mc, X_test_mc, y_train, y_test = train_test_split(one_hot_sequences, mass_charge_length_scaled, y, test_size=0.1, random_state=42)\\n\\n\\n\\nmodel = tf.keras.models.load_model('LSTM_best_checkpoint.keras')\\n\\n\\noptimizer = Adam()\\nmodel.compile(optimizer=optimizer, loss='huber', metrics=['mse'])\\n\\npatience = 15\\nbatch_size = 32\\nepochs = 100\\ncheckpoint = ModelCheckpoint('LSTM_best_checkpoint.keras', monitor='val_loss', verbose=1, save_best_only=True, mode='min')\\nearly_stopping = EarlyStopping(monitor='val_loss', patience=patience)\\nprogress_bar = ProgbarLogger(count_mode='steps', stateful_metrics=None)\\n\\n\\nhistory = model.fit([np.array(X_train_seq), np.array(X_train_mc)], np.array(y_train), validation_data=([np.array(X_test_seq), np.array(X_test_mc)], np.array(y_test)), batch_size=batch_size, epochs=epochs, callbacks=[checkpoint, early_stopping, progress_bar], verbose=1)\""
      ]
     },
     "execution_count": 10,
     "metadata": {},
     "output_type": "execute_result"
    }
   ],
   "source": [
    "'''X_train_seq, X_test_seq, X_train_mc, X_test_mc, y_train, y_test = train_test_split(one_hot_sequences, mass_charge_length_scaled, y, test_size=0.1, random_state=42)\n",
    "\n",
    "\n",
    "\n",
    "model = tf.keras.models.load_model('LSTM_best_checkpoint.keras')\n",
    "\n",
    "\n",
    "optimizer = Adam()\n",
    "model.compile(optimizer=optimizer, loss='huber', metrics=['mse'])\n",
    "\n",
    "patience = 15\n",
    "batch_size = 32\n",
    "epochs = 100\n",
    "checkpoint = ModelCheckpoint('LSTM_best_checkpoint.keras', monitor='val_loss', verbose=1, save_best_only=True, mode='min')\n",
    "early_stopping = EarlyStopping(monitor='val_loss', patience=patience)\n",
    "progress_bar = ProgbarLogger(count_mode='steps', stateful_metrics=None)\n",
    "\n",
    "\n",
    "history = model.fit([np.array(X_train_seq), np.array(X_train_mc)], np.array(y_train), validation_data=([np.array(X_test_seq), np.array(X_test_mc)], np.array(y_test)), batch_size=batch_size, epochs=epochs, callbacks=[checkpoint, early_stopping, progress_bar], verbose=1)'''"
   ]
  },
  {
   "cell_type": "code",
   "execution_count": 11,
   "id": "395060e6",
   "metadata": {
    "execution": {
     "iopub.execute_input": "2023-12-15T12:47:34.196430Z",
     "iopub.status.busy": "2023-12-15T12:47:34.195172Z",
     "iopub.status.idle": "2023-12-15T12:47:34.602257Z",
     "shell.execute_reply": "2023-12-15T12:47:34.601071Z"
    },
    "papermill": {
     "duration": 7.332782,
     "end_time": "2023-12-15T12:47:34.604907",
     "exception": false,
     "start_time": "2023-12-15T12:47:27.272125",
     "status": "completed"
    },
    "tags": []
   },
   "outputs": [
    {
     "data": {
      "image/png": "[encoded data removed]",
      "text/plain": [
       "<Figure size 1000x600 with 1 Axes>"
      ]
     },
     "metadata": {},
     "output_type": "display_data"
    }
   ],
   "source": [
    "\n",
    "training_loss = history.history['loss']\n",
    "validation_loss = history.history['val_loss']\n",
    "\n",
    "# Find epochs where the validation loss decreased\n",
    "min_val_loss_epochs = np.where(np.diff(validation_loss) < 0)[0] + 1\n",
    "\n",
    "# Find epoch where the validation loss is minimum\n",
    "best_val_loss_epoch = np.argmin(validation_loss)\n",
    "\n",
    "plt.figure(figsize=(10, 6))\n",
    "plt.plot(training_loss, label='Training Loss')\n",
    "plt.plot(validation_loss, label='Validation Loss')\n",
    "\n",
    "# Add a red dot\n",
    "plt.scatter(min_val_loss_epochs, [validation_loss[i] for i in min_val_loss_epochs], color='red')\n",
    "\n",
    "# Add a green dot\n",
    "plt.scatter(best_val_loss_epoch, validation_loss[best_val_loss_epoch], color='green')\n",
    "\n",
    "plt.title('Model loss')\n",
    "plt.ylabel('Loss')\n",
    "plt.xlabel('Epoch')\n",
    "plt.legend()\n",
    "plt.show()\n"
   ]
  },
  {
   "cell_type": "code",
   "execution_count": 12,
   "id": "ad2a2e57",
   "metadata": {
    "execution": {
     "iopub.execute_input": "2023-12-15T12:47:48.743679Z",
     "iopub.status.busy": "2023-12-15T12:47:48.742612Z",
     "iopub.status.idle": "2023-12-15T12:47:48.752038Z",
     "shell.execute_reply": "2023-12-15T12:47:48.750994Z"
    },
    "papermill": {
     "duration": 6.977412,
     "end_time": "2023-12-15T12:47:48.754712",
     "exception": false,
     "start_time": "2023-12-15T12:47:41.777300",
     "status": "completed"
    },
    "tags": []
   },
   "outputs": [],
   "source": [
    "\n",
    "hist_df = pd.DataFrame(history.history)\n",
    "\n",
    "# Save to json\n",
    "hist_json_file = 'history.json'\n",
    "with open(hist_json_file, mode='w') as f:\n",
    "    hist_df.to_json(f)\n"
   ]
  },
  {
   "cell_type": "markdown",
   "id": "06f4f63d",
   "metadata": {
    "papermill": {
     "duration": 7.131454,
     "end_time": "2023-12-15T12:48:02.669452",
     "exception": false,
     "start_time": "2023-12-15T12:47:55.537998",
     "status": "completed"
    },
    "tags": []
   },
   "source": [
    "Save the model and params"
   ]
  },
  {
   "cell_type": "code",
   "execution_count": 13,
   "id": "606fea84",
   "metadata": {
    "execution": {
     "iopub.execute_input": "2023-12-15T12:48:16.454346Z",
     "iopub.status.busy": "2023-12-15T12:48:16.453590Z",
     "iopub.status.idle": "2023-12-15T12:48:16.508057Z",
     "shell.execute_reply": "2023-12-15T12:48:16.506737Z"
    },
    "papermill": {
     "duration": 7.035048,
     "end_time": "2023-12-15T12:48:16.510729",
     "exception": false,
     "start_time": "2023-12-15T12:48:09.475681",
     "status": "completed"
    },
    "tags": []
   },
   "outputs": [],
   "source": [
    "\n",
    "model.save('CCS_CNN.keras')\n",
    "\n",
    "\n",
    "\n",
    "with open('model_params.pkl', 'wb') as f:\n",
    "    pickle.dump({'CCS_scaler': CCSscaler, 'mass_length_scaler': mass_length_scaler}, f)"
   ]
  },
  {
   "cell_type": "code",
   "execution_count": 14,
   "id": "755a78f2",
   "metadata": {
    "execution": {
     "iopub.execute_input": "2023-12-15T12:48:30.386292Z",
     "iopub.status.busy": "2023-12-15T12:48:30.385914Z",
     "iopub.status.idle": "2023-12-15T12:48:39.108989Z",
     "shell.execute_reply": "2023-12-15T12:48:39.107726Z"
    },
    "papermill": {
     "duration": 15.555048,
     "end_time": "2023-12-15T12:48:39.111936",
     "exception": false,
     "start_time": "2023-12-15T12:48:23.556888",
     "status": "completed"
    },
    "tags": []
   },
   "outputs": [
    {
     "name": "stdout",
     "output_type": "stream",
     "text": [
      "740/740 [==============================] - 6s 8ms/step\n"
     ]
    }
   ],
   "source": [
    "y_pred_test = model.predict([np.array(X_test_seq), np.array(X_test_mc)])\n",
    "\n",
    "y_pred_test_orig = CCSscaler.inverse_transform(y_pred_test)\n",
    "\n",
    "y_pred_test_orig = np.exp(y_pred_test_orig)\n",
    "\n",
    "y_test = y_test.reshape(-1, 1) \n",
    "y_test_orig = CCSscaler.inverse_transform(y_test)\n",
    "y_test_orig = np.exp(y_test_orig)"
   ]
  },
  {
   "cell_type": "code",
   "execution_count": 15,
   "id": "9bf22cb2",
   "metadata": {
    "execution": {
     "iopub.execute_input": "2023-12-15T12:48:53.324356Z",
     "iopub.status.busy": "2023-12-15T12:48:53.323956Z",
     "iopub.status.idle": "2023-12-15T12:48:53.332238Z",
     "shell.execute_reply": "2023-12-15T12:48:53.331024Z"
    },
    "papermill": {
     "duration": 6.999159,
     "end_time": "2023-12-15T12:48:53.334226",
     "exception": false,
     "start_time": "2023-12-15T12:48:46.335067",
     "status": "completed"
    },
    "tags": []
   },
   "outputs": [
    {
     "name": "stdout",
     "output_type": "stream",
     "text": [
      "Test R^2: 0.9880724798732451\n",
      "Test MSE: 7.924896747189323e-73\n"
     ]
    }
   ],
   "source": [
    "r2_test = r2_score(y_test_orig , y_pred_test_orig)\n",
    "print(f\"Test R^2: {r2_test}\")\n",
    "\n",
    "mse_test = mean_squared_error(y_test_orig , y_pred_test_orig)\n",
    "print(f\"Test MSE: {mse_test}\")\n"
   ]
  },
  {
   "cell_type": "code",
   "execution_count": 16,
   "id": "416680c8",
   "metadata": {
    "execution": {
     "iopub.execute_input": "2023-12-15T12:49:07.119732Z",
     "iopub.status.busy": "2023-12-15T12:49:07.119286Z",
     "iopub.status.idle": "2023-12-15T12:49:07.129459Z",
     "shell.execute_reply": "2023-12-15T12:49:07.128317Z"
    },
    "papermill": {
     "duration": 6.90897,
     "end_time": "2023-12-15T12:49:07.131733",
     "exception": false,
     "start_time": "2023-12-15T12:49:00.222763",
     "status": "completed"
    },
    "tags": []
   },
   "outputs": [
    {
     "name": "stdout",
     "output_type": "stream",
     "text": [
      "Test MRE: 0.021232938378434\n"
     ]
    }
   ],
   "source": [
    "from sklearn.metrics import median_absolute_error\n",
    "\n",
    "absolute_errors = np.abs(y_pred_test_orig - y_test_orig)\n",
    "\n",
    "mae = median_absolute_error(y_test_orig, y_pred_test_orig)\n",
    "\n",
    "mre = mae / np.median(y_test_orig)\n",
    "\n",
    "print(f\"Test MRE: {mre}\")\n"
   ]
  },
  {
   "cell_type": "code",
   "execution_count": 17,
   "id": "a5468bfd",
   "metadata": {
    "execution": {
     "iopub.execute_input": "2023-12-15T12:49:20.950985Z",
     "iopub.status.busy": "2023-12-15T12:49:20.950243Z",
     "iopub.status.idle": "2023-12-15T12:49:21.300679Z",
     "shell.execute_reply": "2023-12-15T12:49:21.299873Z"
    },
    "papermill": {
     "duration": 7.245385,
     "end_time": "2023-12-15T12:49:21.303212",
     "exception": false,
     "start_time": "2023-12-15T12:49:14.057827",
     "status": "completed"
    },
    "tags": []
   },
   "outputs": [
    {
     "name": "stderr",
     "output_type": "stream",
     "text": [
      "/tmp/ipykernel_20/3158844750.py:2: UserWarning: No data for colormapping provided via 'c'. Parameters 'cmap' will be ignored\n",
      "  plt.scatter(y_test_orig, y_pred_test_orig, cmap='winter', alpha=0.2)\n"
     ]
    },
    {
     "data": {
      "image/png": "[encoded data removed]",
      "text/plain": [
       "<Figure size 1000x600 with 1 Axes>"
      ]
     },
     "metadata": {},
     "output_type": "display_data"
    }
   ],
   "source": [
    "plt.figure(figsize=(10, 6))\n",
    "plt.scatter(y_test_orig, y_pred_test_orig, cmap='winter', alpha=0.2)\n",
    "plt.xlabel('Actual Values')\n",
    "plt.ylabel('Predicted Values')\n",
    "limits = [np.min([plt.xlim(), plt.ylim()]),  # find the lower limit\n",
    "          np.max([plt.xlim(), plt.ylim()])]  # find the upper limit\n",
    "plt.plot(limits, limits, color='red')\n",
    "plt.title('Actual vs Predicted Values for Test Data Points')\n",
    "plt.show()"
   ]
  },
  {
   "cell_type": "code",
   "execution_count": 18,
   "id": "07f5d3cb",
   "metadata": {
    "execution": {
     "iopub.execute_input": "2023-12-15T12:49:35.126379Z",
     "iopub.status.busy": "2023-12-15T12:49:35.125947Z",
     "iopub.status.idle": "2023-12-15T12:49:35.133969Z",
     "shell.execute_reply": "2023-12-15T12:49:35.132621Z"
    },
    "papermill": {
     "duration": 6.925462,
     "end_time": "2023-12-15T12:49:35.136182",
     "exception": false,
     "start_time": "2023-12-15T12:49:28.210720",
     "status": "completed"
    },
    "tags": []
   },
   "outputs": [
    {
     "data": {
      "text/plain": [
       "'def predict_ccs(mass, charge, sequence):\\n    model = tf.keras.models.load_model(\\'LSTM_best_checkpoint.keras\\')\\n\\n    # Load the model parameters\\n    with open(\\'model_params.pkl\\', \\'rb\\') as f:\\n        params = pickle.load(f)\\n    CCS_scaler = params[\\'CCS_scaler\\']\\n    mass_length_scaler = params[\\'mass_length_scaler\\']\\n\\n    # Normalize the sequence\\n    sequence = normalize(sequence)\\n\\n    length = len(sequence)\\n    mass_charge_scaled = mass_length_scaler.transform(np.array([[mass, charge, length]]))\\n    \\n    sequence_encoded = one_hot_encode(sequence.ljust(encode_length, \\'X\\'), amino_acids)\\n\\n    ccs_z_pred = model.predict([np.array([sequence_encoded]), mass_charge_scaled])\\n\\n    # Reverse MinMax scaling\\n    ccs_pred = CCS_scaler.inverse_transform(ccs_z_pred)\\n\\n    # Reverse natural logarithm\\n    ccs_pred = np.exp(ccs_pred)\\n\\n    return ccs_pred[0][0]\\n\\n\\n\\n# Test the function with some input values\\nmass = 3608.82972\\ncharge = 3  \\nsequence = \\'_(ac)AAAFEASGALAAVATAM(ox)PAEHVAVQVPAPEPTPGPVR_\\'  \\n\\npredicted_ccs = predict_ccs(mass, charge, sequence)\\nprint(f\"Predicted CCS: {predicted_ccs}\")\\nprint(\"Actual: \" + \"1.91993301213873E-35\")'"
      ]
     },
     "execution_count": 18,
     "metadata": {},
     "output_type": "execute_result"
    }
   ],
   "source": [
    "'''def predict_ccs(mass, charge, sequence):\n",
    "    model = tf.keras.models.load_model('LSTM_best_checkpoint.keras')\n",
    "\n",
    "    # Load the model parameters\n",
    "    with open('model_params.pkl', 'rb') as f:\n",
    "        params = pickle.load(f)\n",
    "    CCS_scaler = params['CCS_scaler']\n",
    "    mass_length_scaler = params['mass_length_scaler']\n",
    "\n",
    "    # Normalize the sequence\n",
    "    sequence = normalize(sequence)\n",
    "\n",
    "    length = len(sequence)\n",
    "    mass_charge_scaled = mass_length_scaler.transform(np.array([[mass, charge, length]]))\n",
    "    \n",
    "    sequence_encoded = one_hot_encode(sequence.ljust(encode_length, 'X'), amino_acids)\n",
    "\n",
    "    ccs_z_pred = model.predict([np.array([sequence_encoded]), mass_charge_scaled])\n",
    "\n",
    "    # Reverse MinMax scaling\n",
    "    ccs_pred = CCS_scaler.inverse_transform(ccs_z_pred)\n",
    "\n",
    "    # Reverse natural logarithm\n",
    "    ccs_pred = np.exp(ccs_pred)\n",
    "\n",
    "    return ccs_pred[0][0]\n",
    "\n",
    "\n",
    "\n",
    "# Test the function with some input values\n",
    "mass = 3608.82972\n",
    "charge = 3  \n",
    "sequence = '_(ac)AAAFEASGALAAVATAM(ox)PAEHVAVQVPAPEPTPGPVR_'  \n",
    "\n",
    "predicted_ccs = predict_ccs(mass, charge, sequence)\n",
    "print(f\"Predicted CCS: {predicted_ccs}\")\n",
    "print(\"Actual: \" + \"1.91993301213873E-35\")'''\n"
   ]
  }
 ],
 "metadata": {
  "kaggle": {
   "accelerator": "none",
   "dataSources": [
    {
     "datasetId": 3512655,
     "sourceId": 6127220,
     "sourceType": "datasetVersion"
    }
   ],
   "dockerImageVersionId": 30559,
   "isGpuEnabled": false,
   "isInternetEnabled": true,
   "language": "python",
   "sourceType": "notebook"
  },
  "kernelspec": {
   "display_name": "Python 3",
   "language": "python",
   "name": "python3"
  },
  "language_info": {
   "codemirror_mode": {
    "name": "ipython",
    "version": 3
   },
   "file_extension": ".py",
   "mimetype": "text/x-python",
   "name": "python",
   "nbconvert_exporter": "python",
   "pygments_lexer": "ipython3",
   "version": "3.10.12"
  },
  "papermill": {
   "default_parameters": {},
   "duration": 7411.312959,
   "end_time": "2023-12-15T12:49:44.889512",
   "environment_variables": {},
   "exception": null,
   "input_path": "__notebook__.ipynb",
   "output_path": "__notebook__.ipynb",
   "parameters": {},
   "start_time": "2023-12-15T10:46:13.576553",
   "version": "2.4.0"
  }
 },
 "nbformat": 4,
 "nbformat_minor": 5
}

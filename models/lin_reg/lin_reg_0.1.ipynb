{
 "cells": [
  {
   "cell_type": "markdown",
   "metadata": {},
   "source": [
    "Import Dependencies"
   ]
  },
  {
   "cell_type": "code",
   "metadata": {
    "collapsed": true,
    "ExecuteTime": {
     "end_time": "2023-10-17T08:28:26.533130Z",
     "start_time": "2023-10-17T08:28:26.522739Z"
    }
   },
   "outputs": [],
   "source": [
    "from ctypes import c_int\n",
    "\n",
    "from sklearn.linear_model import LinearRegression\n",
    "from sklearn.model_selection import KFold\n",
    "import numpy as np\n",
    "import pandas as pd\n",
    "from sklearn.metrics import mean_squared_error, r2_score\n",
    "import matplotlib.pyplot as plt\n",
    "import time\n",
    "from scipy import stats\n",
    "import matplotlib.colors as colors\n",
    "from matplotlib.colors import BoundaryNorm\n",
    "from sklearn.preprocessing import PolynomialFeatures"
   ],
   "execution_count": 2
  },
  {
   "cell_type": "markdown",
   "metadata": {},
   "source": [
    "Load  data into a  DataFrame"
   ]
  },
  {
   "cell_type": "markdown",
   "source": [],
   "metadata": {
    "collapsed": false
   }
  },
  {
   "cell_type": "code",
   "outputs": [
    {
     "name": "stderr",
     "output_type": "stream",
     "text": [
      "C:\\Users\\Fabian Mathis\\AppData\\Local\\Temp\\ipykernel_8808\\3523448699.py:6: SettingWithCopyWarning: \n",
      "A value is trying to be set on a copy of a slice from a DataFrame.\n",
      "Try using .loc[row_indexer,col_indexer] = value instead\n",
      "\n",
      "See the caveats in the documentation: https://pandas.pydata.org/pandas-docs/stable/user_guide/indexing.html#returning-a-view-versus-a-copy\n",
      "  mb_clean_frame[\"length\"] = len(mb_clean_frame[\"sequence\"])\n"
     ]
    }
   ],
   "source": [
    "# Load the data\n",
    "mb_raw_data = pd.read_csv('../../data/whole_data.csv', sep=',')\n",
    "\n",
    "# Keep only necessary columns\n",
    "mb_clean_frame = mb_raw_data[['sequence', 'ccs','mass','charge']]\n",
    "mb_clean_frame[\"length\"] = len(mb_clean_frame[\"sequence\"])\n",
    "# Group by 'Sequence' and 'Charge', and calculate median of 'Mass' and 'CCS'\n",
    "mb_clean_frame = mb_clean_frame.groupby(['sequence', 'charge']).agg({'mass':'median', 'ccs':'median', 'length': 'median'}).reset_index()\n",
    "# Perform z-score transformation\n",
    "mb_clean_frame['CCS_z'] = stats.zscore(mb_clean_frame['ccs'])\n",
    "\n",
    "# Save the mean and std for later use\n",
    "ccs_mean = mb_clean_frame['ccs'].mean()\n",
    "ccs_std = mb_clean_frame['ccs'].std()\n",
    "\n",
    "# Delete the raw data frame to save memory\n",
    "del mb_raw_data\n",
    "# randomize data set\n",
    "mb_clean_frame = mb_clean_frame.sample(frac=1, random_state=1)"
   ],
   "metadata": {},
   "execution_count": 8
  },
  {
   "cell_type": "markdown",
   "metadata": {},
   "source": [
    "Train Model"
   ]
  },
  {
   "cell_type": "code",
   "execution_count": 9,
   "outputs": [],
   "source": [
    "# Split the data into input (m/z) and output (CCS) variables\n",
    "X = mb_clean_frame[[\"charge\", \"mass\", \"length\"]]\n",
    "y = mb_clean_frame['CCS_z']\n",
    "# Define the number of folds\n",
    "k = 4"
   ],
   "metadata": {
    "collapsed": false,
    "ExecuteTime": {
     "end_time": "2023-10-17T08:28:31.327208Z",
     "start_time": "2023-10-17T08:28:31.323266Z"
    }
   }
  },
  {
   "cell_type": "markdown",
   "metadata": {},
   "source": [
    "Perform k-fold cross validation"
   ]
  },
  {
   "cell_type": "code",
   "metadata": {
    "ExecuteTime": {
     "end_time": "2023-10-17T08:28:31.838136Z",
     "start_time": "2023-10-17T08:28:31.331635Z"
    }
   },
   "outputs": [
    {
     "name": "stdout",
     "output_type": "stream",
     "text": [
      "Fold: 1\n",
      "Fold: 2\n",
      "Fold: 3\n",
      "Fold: 4\n",
      "Average Mean Squared Error: 8.01997925379601e-73\n",
      "Average Median Relative Error: 0.020387803321934447\n",
      "Average R^2 Score: 0.9901692923778234\n",
      "Time elapsed: 3.57 seconds\n"
     ]
    }
   ],
   "source": [
    "# Start logging time in ms without\n",
    "start_time = time.time()\n",
    "# Initialize the cross-validation object\n",
    "kf = KFold(n_splits=k)\n",
    "# Initialize a list to store the MSE for each fold\n",
    "mse_scores = []\n",
    "median_relative_errors = []\n",
    "r2_scores = []\n",
    "# Perform k-fold cross-validation\n",
    "for train_index, test_index in kf.split(X):\n",
    "    # Split the data into training and testing sets for the current fold\n",
    "    X_train, X_test = X.iloc[train_index], X.iloc[test_index]\n",
    "    y_train, y_test = y.iloc[train_index], y.iloc[test_index]\n",
    "\n",
    "    # Create a PolynomialFeatures object\n",
    "    poly = PolynomialFeatures(degree=3)\n",
    "\n",
    "    # Fit and transform the training data\n",
    "    X_train_poly = poly.fit_transform(X_train)\n",
    "\n",
    "    # Create a linear regression model\n",
    "    model = LinearRegression(n_jobs=-1)\n",
    "\n",
    "    # Train the model\n",
    "    model.fit(X_train_poly, y_train)\n",
    "\n",
    "    # Transform the test data (do not fit)\n",
    "    X_test_poly = poly.transform(X_test)\n",
    "\n",
    "    # Make predictions on the test set\n",
    "    y_pred = model.predict(X_test_poly)\n",
    "\n",
    "    # Convert predictions back to original scale\n",
    "    y_pred_orig = y_pred * ccs_std + ccs_mean\n",
    "    y_test_orig = y_test * ccs_std + ccs_mean\n",
    "\n",
    "    # Calculate the MSE for the current fold\n",
    "    mse = mean_squared_error(y_test_orig, y_pred_orig)\n",
    "    mse_scores.append(mse)\n",
    "    # Calculate the median relative error for the current fold\n",
    "    relative_errors = np.abs((y_pred_orig - y_test_orig) / y_test_orig)\n",
    "    median_relative_error = np.median(relative_errors)\n",
    "    median_relative_errors.append(median_relative_error)\n",
    "    # Calculate the R^2 score for the current fold\n",
    "    r2 = r2_score(y_test_orig, y_pred_orig)\n",
    "    r2_scores.append(r2)\n",
    "    # Progress update\n",
    "    print(\"Fold:\", len(mse_scores))\n",
    "\n",
    "# Create a PolynomialFeatures object\n",
    "poly = PolynomialFeatures(degree=3)\n",
    "\n",
    "# Fit and transform the entire dataset\n",
    "X_poly = poly.fit_transform(X)\n",
    "\n",
    "# Create the final model\n",
    "final_model = LinearRegression(n_jobs=-1)\n",
    "final_model.fit(X_poly, y)\n",
    "\n",
    "# Print the average MSE score\n",
    "print(\"Average Mean Squared Error:\", np.mean(mse_scores))\n",
    "# print the average of the median relative errors\n",
    "print(\"Average Median Relative Error:\", np.mean(median_relative_errors))\n",
    "# Print the average R^2 score\n",
    "print(\"Average R^2 Score:\", np.mean(r2_scores))\n",
    "# Calculate the elapsed time\n",
    "elapsed_time = time.time() - start_time\n",
    "# Print the elapsed time\n",
    "print(f'Time elapsed: {elapsed_time:.2f} seconds')\n"
   ],
   "execution_count": 10
  },
  {
   "cell_type": "code",
   "execution_count": 6,
   "outputs": [
    {
     "data": {
      "text/plain": "<Figure size 640x480 with 1 Axes>",
      "image/png": "[encoded data removed]"
     },
     "metadata": {},
     "output_type": "display_data"
    }
   ],
   "source": [
    "from sklearn.model_selection import learning_curve\n",
    "\n",
    "# Define the sizes of the training sets to use\n",
    "train_sizes = np.linspace(0.1, 1.0, 10)\n",
    "\n",
    "# Calculate the learning curve\n",
    "train_sizes, train_scores, test_scores = learning_curve(\n",
    "    LinearRegression(n_jobs=-1),\n",
    "    X,\n",
    "    y,\n",
    "    train_sizes=train_sizes,\n",
    "    cv=k,\n",
    "    scoring='neg_mean_squared_error',\n",
    "    n_jobs=-1\n",
    ")\n",
    "\n",
    "# Calculate the average training and test scores\n",
    "train_scores_mean = -np.mean(train_scores, axis=1)\n",
    "test_scores_mean = -np.mean(test_scores, axis=1)\n",
    "\n",
    "# Plot the learning curve\n",
    "plt.plot(train_sizes, train_scores_mean, label='Training score')\n",
    "plt.plot(train_sizes, test_scores_mean, label='Cross-validation score')\n",
    "plt.xlabel('Training set size')\n",
    "plt.ylabel('MSE')\n",
    "plt.legend()\n",
    "plt.show()\n"
   ],
   "metadata": {
    "collapsed": false
   }
  },
  {
   "cell_type": "code",
   "execution_count": 7,
   "outputs": [
    {
     "name": "stdout",
     "output_type": "stream",
     "text": [
      "Feature: 0, Score: 0.00000\n",
      "Feature: 1, Score: 1.04198\n",
      "Feature: 2, Score: -0.00045\n",
      "Feature: 3, Score: 0.56236\n",
      "Feature: 4, Score: -0.00076\n",
      "Feature: 5, Score: 0.00000\n",
      "Feature: 6, Score: -0.09832\n",
      "Feature: 7, Score: 0.00012\n",
      "Feature: 8, Score: -0.00000\n",
      "Feature: 9, Score: -0.00000\n"
     ]
    },
    {
     "ename": "AttributeError",
     "evalue": "'LinearRegression' object has no attribute 'feature_names_in_'",
     "output_type": "error",
     "traceback": [
      "\u001B[1;31m---------------------------------------------------------------------------\u001B[0m",
      "\u001B[1;31mAttributeError\u001B[0m                            Traceback (most recent call last)",
      "Cell \u001B[1;32mIn[7], line 10\u001B[0m\n\u001B[0;32m      8\u001B[0m plt\u001B[38;5;241m.\u001B[39mtitle(\u001B[38;5;124m\"\u001B[39m\u001B[38;5;124mFeature Importance\u001B[39m\u001B[38;5;124m\"\u001B[39m)\n\u001B[0;32m      9\u001B[0m features \u001B[38;5;241m=\u001B[39m X\u001B[38;5;241m.\u001B[39mcolumns\n\u001B[1;32m---> 10\u001B[0m plt\u001B[38;5;241m.\u001B[39mxticks(\u001B[38;5;28mrange\u001B[39m(X\u001B[38;5;241m.\u001B[39mshape[\u001B[38;5;241m1\u001B[39m]), \u001B[43mmodel\u001B[49m\u001B[38;5;241;43m.\u001B[39;49m\u001B[43mfeature_names_in_\u001B[49m, rotation\u001B[38;5;241m=\u001B[39m\u001B[38;5;241m0\u001B[39m)\n\u001B[0;32m     11\u001B[0m plt\u001B[38;5;241m.\u001B[39mxlim([\u001B[38;5;241m-\u001B[39m\u001B[38;5;241m1\u001B[39m, X\u001B[38;5;241m.\u001B[39mshape[\u001B[38;5;241m1\u001B[39m]])\n\u001B[0;32m     12\u001B[0m plt\u001B[38;5;241m.\u001B[39mshow()\n",
      "\u001B[1;31mAttributeError\u001B[0m: 'LinearRegression' object has no attribute 'feature_names_in_'"
     ]
    },
    {
     "data": {
      "text/plain": "<Figure size 640x480 with 1 Axes>",
      "image/png": "[encoded data removed]"
     },
     "metadata": {},
     "output_type": "display_data"
    }
   ],
   "source": [
    "importance = model.coef_\n",
    "# summarize feature importance\n",
    "for i,v in enumerate(importance):\n",
    " print('Feature: %0d, Score: %.5f' % (i,v))\n",
    "\n",
    "# plot feature importance\n",
    "plt.bar([x for x in range(len(importance))], importance, color=\"#3070B3\")\n",
    "plt.title(\"Feature Importance\")\n",
    "features = X.columns\n",
    "plt.xticks(range(X.shape[1]), model.feature_names_in_, rotation=0)\n",
    "plt.xlim([-1, X.shape[1]])\n",
    "plt.show()"
   ],
   "metadata": {
    "collapsed": false
   }
  },
  {
   "cell_type": "markdown",
   "metadata": {},
   "source": [
    "Save the model"
   ]
  },
  {
   "cell_type": "code",
   "source": [
    "# Predict the CCS of the peptides in the data frame\n",
    "mb_clean_frame['Predicted CCS'] = final_model.predict(X)\n",
    "\n",
    "# Reverse the z-score transformation\n",
    "mb_clean_frame['Predicted CCS'] = mb_clean_frame['Predicted CCS'] #* ccs_std + ccs_mean\n"
   ],
   "outputs": [],
   "metadata": {},
   "execution_count": null
  },
  {
   "cell_type": "code",
   "execution_count": null,
   "outputs": [],
   "source": [
    "# Create a scatter plot of the error between the predicted and actual CCS values by sequence length. X = Experimental CCS, Y = Predicted CCS, Color = Sequence Length, Colormap = cool, alpha = 0.01\n",
    "mb_clean_frame.plot.scatter(\n",
    "    x='CCS',\n",
    "    y='Predicted CCS',\n",
    "    c='Length',\n",
    "    cmap='winter',\n",
    "    alpha=0.2,\n",
    "    vmin=mb_clean_frame['Length'].min(),\n",
    "    vmax=mb_clean_frame['Length'].max()\n",
    ")\n",
    "mb_clean_frame.plot.hexbin(\n",
    "    x='CCS',\n",
    "    y='Predicted CCS',\n",
    "    C='Length',\n",
    "    reduce_C_function=np.mean,\n",
    "    gridsize=50,\n",
    "    cmap='magma'\n",
    ")\n",
    "\n",
    "# Print the Spearman's correlation coefficient between the predicted and actual CCS values\n",
    "print(\"Spearman's Correlation Coefficient:\", mb_clean_frame['CCS'].corr(mb_clean_frame['Predicted CCS'], method='spearman'))\n",
    "# Create a scatter plot between the percent error and length\n",
    "mb_clean_frame['Percent Error'] = np.abs((mb_clean_frame['Predicted CCS'] - mb_clean_frame['CCS']) / mb_clean_frame['CCS'])\n",
    "mb_clean_frame.plot.scatter(\n",
    "    x='Length',\n",
    "    y='Percent Error',\n",
    "    alpha=0.2,\n",
    "    vmin=mb_clean_frame['Length'].min(),\n",
    "    vmax=mb_clean_frame['Length'].max()\n",
    ")\n",
    "\n"
   ],
   "metadata": {
    "collapsed": false
   }
  },
  {
   "cell_type": "code",
   "execution_count": null,
   "outputs": [],
   "source": [
    "ccs_data = mb_clean_frame[\"CCS\"].to_numpy()\n",
    "predicted_ccs_data = mb_clean_frame[\"Predicted CCS\"].to_numpy()\n",
    "\n",
    "\n",
    "x = mb_clean_frame[\"CCS\"]\n",
    "y = mb_clean_frame[\"Predicted CCS\"]\n",
    "\n",
    "plt.hist2d(x, y, bins=[30,30],norm=colors.LogNorm(), range=((3*1e-36, 4.7*1e-35), (3*1e-36, 4.7*1e-35)))\n",
    "plt.xlabel(\"Experimental CCS\")\n",
    "plt.ylabel(\"Predicted CCS\")\n",
    "plt.colorbar()\n",
    "plt.show()\n"
   ],
   "metadata": {
    "collapsed": false
   }
  },
  {
   "cell_type": "code",
   "execution_count": null,
   "outputs": [],
   "source": [
    "boundaries = [0.5, 1.5, 2.5, 3.5, 4.5]\n",
    "cmap = colors.ListedColormap(['orange', 'blue', 'green', 'red'])\n",
    "\n",
    "norm = BoundaryNorm(boundaries, cmap.N, clip=True)\n",
    "\n",
    "fig, ax = plt.subplots()\n",
    "\n",
    "scatter = ax.scatter(\n",
    "    x=mb_clean_frame['CCS'],\n",
    "    y=mb_clean_frame['Predicted CCS'],\n",
    "    c=mb_clean_frame['Charge'],\n",
    "    cmap=cmap,\n",
    "    norm=norm,\n",
    "    alpha=0.2\n",
    ")\n",
    "ax.set_xlabel('Experimental CCS')\n",
    "ax.set_ylabel('Predicted CCS')\n",
    "\n",
    "cbar = plt.colorbar(scatter, ticks=[1, 2, 3, 4])\n",
    "cbar.set_label('Charge')\n",
    "\n",
    "plt.show()"
   ],
   "metadata": {
    "collapsed": false
   }
  },
  {
   "cell_type": "markdown",
   "source": [
    "Save the model to a file"
   ],
   "metadata": {
    "collapsed": false
   }
  },
  {
   "cell_type": "code",
   "execution_count": null,
   "outputs": [],
   "source": [
    "#filename = '../../models/lin_reg/lin_reg.pkl'\n",
    "#pickle.dump(model, open(filename, 'wb'))"
   ],
   "metadata": {
    "collapsed": false
   }
  }
 ],
 "metadata": {
  "kernelspec": {
   "display_name": "Python 3 (ipykernel)",
   "language": "python",
   "name": "python3"
  },
  "language_info": {
   "codemirror_mode": {
    "name": "ipython",
    "version": 3
   },
   "file_extension": ".py",
   "mimetype": "text/x-python",
   "name": "python",
   "nbconvert_exporter": "python",
   "pygments_lexer": "ipython3",
   "version": "3.9.13"
  }
 },
 "nbformat": 4,
 "nbformat_minor": 1
}

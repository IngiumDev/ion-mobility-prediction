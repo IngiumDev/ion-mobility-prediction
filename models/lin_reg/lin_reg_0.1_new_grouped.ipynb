{
 "cells": [
  {
   "cell_type": "markdown",
   "metadata": {},
   "source": [
    "Import Dependencies"
   ]
  },
  {
   "cell_type": "code",
   "metadata": {
    "collapsed": true
   },
   "outputs": [],
   "source": [
    "from sklearn.linear_model import LinearRegression\n",
    "from sklearn.model_selection import KFold\n",
    "import numpy as np\n",
    "import pandas as pd\n",
    "from sklearn.metrics import mean_squared_error, r2_score\n",
    "import matplotlib.pyplot as plt\n",
    "import time\n",
    "from scipy import stats\n",
    "import time\n",
    "import peptides"
   ],
   "execution_count": null
  },
  {
   "cell_type": "markdown",
   "metadata": {},
   "source": [
    "Load  data into a  DataFrame"
   ]
  },
  {
   "cell_type": "markdown",
   "source": [],
   "metadata": {
    "collapsed": false
   }
  },
  {
   "cell_type": "code",
   "outputs": [],
   "source": [
    "# Load the data\n",
    "mb_raw_data = pd.read_csv('../../data/mann_bruker.txt', sep='\\t')\n",
    "\n",
    "# Keep only necessary columns\n",
    "mb_clean_frame = mb_raw_data[['Sequence', 'm/z', 'CCS','Mass','Charge','Length']]\n",
    "\n",
    "# Perform z-score transformation\n",
    "mb_clean_frame['CCS_z'] = stats.zscore(mb_clean_frame['CCS'])\n",
    "\n",
    "# Save the mean and std for later use\n",
    "ccs_mean = mb_clean_frame['CCS'].mean()\n",
    "ccs_std = mb_clean_frame['CCS'].std()\n",
    "\n",
    "# Delete the raw data frame to save memory\n",
    "del mb_raw_data\n",
    "# randomize data set\n",
    "mb_clean_frame = mb_clean_frame.sample(frac=1, random_state=1)"
   ],
   "metadata": {},
   "execution_count": null
  },
  {
   "cell_type": "markdown",
   "metadata": {},
   "source": [
    "Train Model"
   ]
  },
  {
   "cell_type": "code",
   "execution_count": null,
   "outputs": [],
   "source": [
    "# Split the data into input (m/z) and output (CCS) variables\n",
    "X = mb_clean_frame[[\"Charge\", 'Mass', 'Length']]\n",
    "y = mb_clean_frame['CCS_z']\n",
    "# Define the number of folds\n",
    "k = 4"
   ],
   "metadata": {
    "collapsed": false
   }
  },
  {
   "cell_type": "markdown",
   "metadata": {},
   "source": [
    "Perform k-fold cross validation"
   ]
  },
  {
   "cell_type": "code",
   "metadata": {},
   "outputs": [],
   "source": [
    "# Initialize a dictionary to store the models for each charge\n",
    "models = {}\n",
    "\n",
    "# Loop over each charge\n",
    "for charge in range(1, 5):\n",
    "    # Filter the data for the current charge\n",
    "    mb_charge_frame = mb_clean_frame[mb_clean_frame['Charge'] == charge]\n",
    "    \n",
    "    # Split the data into input and output variables\n",
    "    X_charge = mb_charge_frame[['Mass', 'Length']]\n",
    "    y_charge = mb_charge_frame['CCS_z']\n",
    "    \n",
    "    # Initialize the cross-validation object\n",
    "    kf = KFold(n_splits=k)\n",
    "    \n",
    "    # Initialize lists to store the scores for each fold\n",
    "    mse_scores_charge = []\n",
    "    median_relative_errors_charge = []\n",
    "    r2_scores_charge = []\n",
    "    \n",
    "    # Perform k-fold cross-validation\n",
    "    for train_index, test_index in kf.split(X_charge):\n",
    "        # Split the data into training and testing sets for the current fold\n",
    "        X_train, X_test = X_charge.iloc[train_index], X_charge.iloc[test_index]\n",
    "        y_train, y_test = y_charge.iloc[train_index], y_charge.iloc[test_index]\n",
    "        \n",
    "        # Create a linear regression model\n",
    "        model = LinearRegression(n_jobs=-1)\n",
    "        \n",
    "        # Train the model\n",
    "        model.fit(X_train, y_train)\n",
    "        \n",
    "        # Make predictions on the test set\n",
    "        y_pred = model.predict(X_test)\n",
    "        \n",
    "        # Calculate the scores for the current fold\n",
    "        mse_scores_charge.append(mean_squared_error(y_test, y_pred))\n",
    "        median_relative_errors_charge.append(np.median(np.abs((y_pred - y_test) / y_test)))\n",
    "        r2_scores_charge.append(r2_score(y_test, y_pred))\n",
    "    \n",
    "    # Create the final model for the current charge\n",
    "    final_model_charge = LinearRegression(n_jobs=-1)\n",
    "    final_model_charge.fit(X_charge, y_charge)\n",
    "    \n",
    "    # Store the final model in the dictionary\n",
    "    models[charge] = final_model_charge\n",
    "    \n",
    "    # Print the scores for the current charge\n",
    "    print(f'Charge: {charge}')\n",
    "    print(f'Average Mean Squared Error: {np.mean(mse_scores_charge)}')\n",
    "    print(f'Average Median Relative Error: {np.mean(median_relative_errors_charge)}')\n",
    "    print(f'Average R^2 Score: {np.mean(r2_scores_charge)}')\n",
    "\n",
    "# Now, 'models' is a dictionary that maps each charge to its corresponding model.\n",
    "# You can access a model like this: models[charge]\n"
   ],
   "execution_count": null
  },
  {
   "cell_type": "markdown",
   "metadata": {},
   "source": [
    "Save the model"
   ]
  },
  {
   "cell_type": "code",
   "execution_count": null,
   "outputs": [],
   "source": [
    "# Create a new figure\n",
    "fig, ax = plt.subplots()\n",
    "\n",
    "# Define the colormap\n",
    "cmap = plt.get_cmap('winter')\n",
    "\n",
    "# Loop over each charge\n",
    "for charge in range(1, 5):\n",
    "    # Filter the data for the current charge\n",
    "    mb_charge_frame = mb_clean_frame[mb_clean_frame['Charge'] == charge]\n",
    "    \n",
    "    # Predict the CCS values using the model for the current charge\n",
    "    mb_charge_frame['Predicted CCS'] = models[charge].predict(mb_charge_frame[['Mass', 'Length']])\n",
    "    \n",
    "    # Reverse the z-score transformation\n",
    "    mb_charge_frame['Predicted CCS'] = mb_charge_frame['Predicted CCS'] * ccs_std + ccs_mean\n",
    "    \n",
    "    # Create a scatter plot of the error between the predicted and actual CCS values by sequence length\n",
    "    sc = ax.scatter(\n",
    "        mb_charge_frame['CCS'],\n",
    "        mb_charge_frame['Predicted CCS'],\n",
    "        c=mb_charge_frame['Length'],\n",
    "        cmap=cmap,\n",
    "        alpha=0.2,\n",
    "        vmin=mb_charge_frame['Length'].min(),\n",
    "        vmax=mb_charge_frame['Length'].max()\n",
    "    )\n",
    "\n",
    "# Add a colorbar to the figure\n",
    "fig.colorbar(sc, ax=ax, label='Sequence Length')\n",
    "\n",
    "# Add labels to the axes\n",
    "ax.set_xlabel('CCS')\n",
    "ax.set_ylabel('Predicted CCS')\n",
    "\n",
    "# Show the figure\n",
    "plt.show()\n"
   ],
   "metadata": {
    "collapsed": false
   }
  },
  {
   "cell_type": "markdown",
   "source": [
    "Save the model to a file"
   ],
   "metadata": {
    "collapsed": false
   }
  },
  {
   "cell_type": "code",
   "execution_count": null,
   "outputs": [],
   "source": [
    "#filename = '../../models/lin_reg/lin_reg.pkl'\n",
    "#pickle.dump(model, open(filename, 'wb'))"
   ],
   "metadata": {
    "collapsed": false
   }
  }
 ],
 "metadata": {
  "kernelspec": {
   "display_name": "Python 3 (ipykernel)",
   "language": "python",
   "name": "python3"
  },
  "language_info": {
   "codemirror_mode": {
    "name": "ipython",
    "version": 3
   },
   "file_extension": ".py",
   "mimetype": "text/x-python",
   "name": "python",
   "nbconvert_exporter": "python",
   "pygments_lexer": "ipython3",
   "version": "3.9.13"
  }
 },
 "nbformat": 4,
 "nbformat_minor": 1
}

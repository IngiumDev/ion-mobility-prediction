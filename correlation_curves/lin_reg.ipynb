{
 "cells": [
  {
   "cell_type": "code",
   "execution_count": 7,
   "metadata": {
    "collapsed": true
   },
   "outputs": [],
   "source": [
    "import pandas as pd\n",
    "from scipy import stats\n",
    "from sklearn.linear_model import LinearRegression\n",
    "from sklearn.model_selection import KFold\n",
    "import numpy as np\n",
    "from sklearn.metrics import mean_squared_error, r2_score\n",
    "import time"
   ]
  },
  {
   "cell_type": "code",
   "execution_count": 8,
   "outputs": [],
   "source": [
    "# Load the data\n",
    "raw_data = pd.DataFrame(pd.read_csv('../data/merged_data.csv'))\n",
    "raw_data = raw_data.drop(\"Unnamed: 0\", axis=1)"
   ],
   "metadata": {
    "collapsed": false
   }
  },
  {
   "cell_type": "code",
   "execution_count": 9,
   "outputs": [
    {
     "data": {
      "text/plain": "                 CCS  Ion mobility index       sequence  charge       dt  \\\n0       5.996674e-36                 156     AAAAAAAAAK       1  111.248   \n1       5.956918e-36                 147     AAAAAAAAAK       1  111.248   \n2       5.996673e-36                 156     AAAAAAAAAK       1  111.248   \n3       5.970114e-36                 150     AAAAAAAAAK       1  111.248   \n4       5.996675e-36                 156     AAAAAAAAAK       1  111.248   \n...              ...                 ...            ...     ...      ...   \n157014  3.109287e-35                 729   YYVTIIDAPGHR       3   33.270   \n157015  3.109287e-35                 729   YYVTIIDAPGHR       3   33.276   \n157016  1.631641e-35                 522  YYWDIDLDNCVAR       2   63.229   \n157017  1.631641e-35                 522  YYWDIDLDNCVAR       2   63.877   \n157018  1.539046e-35                 462    YYWQENHLETK       2   59.057   \n\n          mass_mean  \n0        785.944876  \n1        785.944876  \n2        785.944876  \n3        785.944876  \n4        785.944876  \n...             ...  \n157014  1404.225025  \n157015  1404.224925  \n157016  1702.251255  \n157017  1702.250505  \n157018  1510.186620  \n\n[157019 rows x 6 columns]",
      "text/html": "<div>\n<style scoped>\n    .dataframe tbody tr th:only-of-type {\n        vertical-align: middle;\n    }\n\n    .dataframe tbody tr th {\n        vertical-align: top;\n    }\n\n    .dataframe thead th {\n        text-align: right;\n    }\n</style>\n<table border=\"1\" class=\"dataframe\">\n  <thead>\n    <tr style=\"text-align: right;\">\n      <th></th>\n      <th>CCS</th>\n      <th>Ion mobility index</th>\n      <th>sequence</th>\n      <th>charge</th>\n      <th>dt</th>\n      <th>mass_mean</th>\n    </tr>\n  </thead>\n  <tbody>\n    <tr>\n      <th>0</th>\n      <td>5.996674e-36</td>\n      <td>156</td>\n      <td>AAAAAAAAAK</td>\n      <td>1</td>\n      <td>111.248</td>\n      <td>785.944876</td>\n    </tr>\n    <tr>\n      <th>1</th>\n      <td>5.956918e-36</td>\n      <td>147</td>\n      <td>AAAAAAAAAK</td>\n      <td>1</td>\n      <td>111.248</td>\n      <td>785.944876</td>\n    </tr>\n    <tr>\n      <th>2</th>\n      <td>5.996673e-36</td>\n      <td>156</td>\n      <td>AAAAAAAAAK</td>\n      <td>1</td>\n      <td>111.248</td>\n      <td>785.944876</td>\n    </tr>\n    <tr>\n      <th>3</th>\n      <td>5.970114e-36</td>\n      <td>150</td>\n      <td>AAAAAAAAAK</td>\n      <td>1</td>\n      <td>111.248</td>\n      <td>785.944876</td>\n    </tr>\n    <tr>\n      <th>4</th>\n      <td>5.996675e-36</td>\n      <td>156</td>\n      <td>AAAAAAAAAK</td>\n      <td>1</td>\n      <td>111.248</td>\n      <td>785.944876</td>\n    </tr>\n    <tr>\n      <th>...</th>\n      <td>...</td>\n      <td>...</td>\n      <td>...</td>\n      <td>...</td>\n      <td>...</td>\n      <td>...</td>\n    </tr>\n    <tr>\n      <th>157014</th>\n      <td>3.109287e-35</td>\n      <td>729</td>\n      <td>YYVTIIDAPGHR</td>\n      <td>3</td>\n      <td>33.270</td>\n      <td>1404.225025</td>\n    </tr>\n    <tr>\n      <th>157015</th>\n      <td>3.109287e-35</td>\n      <td>729</td>\n      <td>YYVTIIDAPGHR</td>\n      <td>3</td>\n      <td>33.276</td>\n      <td>1404.224925</td>\n    </tr>\n    <tr>\n      <th>157016</th>\n      <td>1.631641e-35</td>\n      <td>522</td>\n      <td>YYWDIDLDNCVAR</td>\n      <td>2</td>\n      <td>63.229</td>\n      <td>1702.251255</td>\n    </tr>\n    <tr>\n      <th>157017</th>\n      <td>1.631641e-35</td>\n      <td>522</td>\n      <td>YYWDIDLDNCVAR</td>\n      <td>2</td>\n      <td>63.877</td>\n      <td>1702.250505</td>\n    </tr>\n    <tr>\n      <th>157018</th>\n      <td>1.539046e-35</td>\n      <td>462</td>\n      <td>YYWQENHLETK</td>\n      <td>2</td>\n      <td>59.057</td>\n      <td>1510.186620</td>\n    </tr>\n  </tbody>\n</table>\n<p>157019 rows × 6 columns</p>\n</div>"
     },
     "execution_count": 9,
     "metadata": {},
     "output_type": "execute_result"
    }
   ],
   "source": [
    "raw_data"
   ],
   "metadata": {
    "collapsed": false
   }
  },
  {
   "cell_type": "code",
   "execution_count": 10,
   "outputs": [],
   "source": [
    "raw_data['CCS_z'] = stats.zscore(raw_data['CCS'])\n",
    "\n",
    "data_clean = raw_data.sample(frac=1, random_state=1)\n",
    "\n",
    "# Save the mean and std for later use\n",
    "ccs_mean = data_clean['CCS'].mean()\n",
    "ccs_std = data_clean['CCS'].std()"
   ],
   "metadata": {
    "collapsed": false
   }
  },
  {
   "cell_type": "code",
   "execution_count": 11,
   "outputs": [
    {
     "data": {
      "text/plain": "                 CCS  Ion mobility index           sequence  charge      dt  \\\n62120   1.665055e-35                 540      IGNLQTDLSDGLR       2  55.165   \n80664   1.921626e-35                 666          LIDFLECGK       2  39.820   \n30419   1.691294e-35                 555       EGLELPEDEEEK       2  54.438   \n103315  1.511284e-35                 444     NPELQNLLLDDFFK       2  68.907   \n90561   1.588573e-35                 495     LVINGNPITIFQER       2  61.269   \n...              ...                 ...                ...     ...     ...   \n73349   2.639245e-35                 594  LAMQEFMILPVGAANFR       3  49.181   \n109259  1.808395e-35                 615        QLDECASAITK       2  46.834   \n50057   1.778468e-35                 600        GIVLLEELLPK       2  50.354   \n5192    1.679774e-35                 549     AGGIETIANEYSDR       2  54.972   \n128037  1.599081e-35                 501      TLNDELEIIEGMK       2  59.254   \n\n          mass_mean     CCS_z  \n62120   1401.231280 -0.586895  \n80664   1094.053540 -0.141751  \n30419   1416.136290 -0.541372  \n103315  1705.376495 -0.853686  \n90561   1613.395045 -0.719591  \n...             ...       ...  \n73349   1923.481980  1.103303  \n109259  1235.091375 -0.338203  \n50057   1223.260690 -0.390127  \n5192    1495.201375 -0.561359  \n128037  1504.253430 -0.701359  \n\n[157019 rows x 7 columns]",
      "text/html": "<div>\n<style scoped>\n    .dataframe tbody tr th:only-of-type {\n        vertical-align: middle;\n    }\n\n    .dataframe tbody tr th {\n        vertical-align: top;\n    }\n\n    .dataframe thead th {\n        text-align: right;\n    }\n</style>\n<table border=\"1\" class=\"dataframe\">\n  <thead>\n    <tr style=\"text-align: right;\">\n      <th></th>\n      <th>CCS</th>\n      <th>Ion mobility index</th>\n      <th>sequence</th>\n      <th>charge</th>\n      <th>dt</th>\n      <th>mass_mean</th>\n      <th>CCS_z</th>\n    </tr>\n  </thead>\n  <tbody>\n    <tr>\n      <th>62120</th>\n      <td>1.665055e-35</td>\n      <td>540</td>\n      <td>IGNLQTDLSDGLR</td>\n      <td>2</td>\n      <td>55.165</td>\n      <td>1401.231280</td>\n      <td>-0.586895</td>\n    </tr>\n    <tr>\n      <th>80664</th>\n      <td>1.921626e-35</td>\n      <td>666</td>\n      <td>LIDFLECGK</td>\n      <td>2</td>\n      <td>39.820</td>\n      <td>1094.053540</td>\n      <td>-0.141751</td>\n    </tr>\n    <tr>\n      <th>30419</th>\n      <td>1.691294e-35</td>\n      <td>555</td>\n      <td>EGLELPEDEEEK</td>\n      <td>2</td>\n      <td>54.438</td>\n      <td>1416.136290</td>\n      <td>-0.541372</td>\n    </tr>\n    <tr>\n      <th>103315</th>\n      <td>1.511284e-35</td>\n      <td>444</td>\n      <td>NPELQNLLLDDFFK</td>\n      <td>2</td>\n      <td>68.907</td>\n      <td>1705.376495</td>\n      <td>-0.853686</td>\n    </tr>\n    <tr>\n      <th>90561</th>\n      <td>1.588573e-35</td>\n      <td>495</td>\n      <td>LVINGNPITIFQER</td>\n      <td>2</td>\n      <td>61.269</td>\n      <td>1613.395045</td>\n      <td>-0.719591</td>\n    </tr>\n    <tr>\n      <th>...</th>\n      <td>...</td>\n      <td>...</td>\n      <td>...</td>\n      <td>...</td>\n      <td>...</td>\n      <td>...</td>\n      <td>...</td>\n    </tr>\n    <tr>\n      <th>73349</th>\n      <td>2.639245e-35</td>\n      <td>594</td>\n      <td>LAMQEFMILPVGAANFR</td>\n      <td>3</td>\n      <td>49.181</td>\n      <td>1923.481980</td>\n      <td>1.103303</td>\n    </tr>\n    <tr>\n      <th>109259</th>\n      <td>1.808395e-35</td>\n      <td>615</td>\n      <td>QLDECASAITK</td>\n      <td>2</td>\n      <td>46.834</td>\n      <td>1235.091375</td>\n      <td>-0.338203</td>\n    </tr>\n    <tr>\n      <th>50057</th>\n      <td>1.778468e-35</td>\n      <td>600</td>\n      <td>GIVLLEELLPK</td>\n      <td>2</td>\n      <td>50.354</td>\n      <td>1223.260690</td>\n      <td>-0.390127</td>\n    </tr>\n    <tr>\n      <th>5192</th>\n      <td>1.679774e-35</td>\n      <td>549</td>\n      <td>AGGIETIANEYSDR</td>\n      <td>2</td>\n      <td>54.972</td>\n      <td>1495.201375</td>\n      <td>-0.561359</td>\n    </tr>\n    <tr>\n      <th>128037</th>\n      <td>1.599081e-35</td>\n      <td>501</td>\n      <td>TLNDELEIIEGMK</td>\n      <td>2</td>\n      <td>59.254</td>\n      <td>1504.253430</td>\n      <td>-0.701359</td>\n    </tr>\n  </tbody>\n</table>\n<p>157019 rows × 7 columns</p>\n</div>"
     },
     "execution_count": 11,
     "metadata": {},
     "output_type": "execute_result"
    }
   ],
   "source": [
    "data_clean"
   ],
   "metadata": {
    "collapsed": false
   }
  },
  {
   "cell_type": "code",
   "execution_count": 12,
   "outputs": [],
   "source": [
    "X = data_clean[[\"charge\", 'mass_mean']]\n",
    "y = data_clean['CCS']"
   ],
   "metadata": {
    "collapsed": false
   }
  },
  {
   "cell_type": "code",
   "execution_count": 13,
   "outputs": [
    {
     "name": "stdout",
     "output_type": "stream",
     "text": [
      "Fold: 1\n",
      "Fold: 2\n",
      "Fold: 3\n",
      "Fold: 4\n",
      "Average Mean Squared Error: 0.0\n",
      "Average Median Relative Error: 0.0\n",
      "Average R^2 Score: 1.0\n",
      "Time elapsed: 0.29 seconds\n"
     ]
    }
   ],
   "source": [
    "k = 4\n",
    "# Start logging time in ms without\n",
    "start_time = time.time()\n",
    "# Initialize the cross-validation object\n",
    "kf = KFold(n_splits=k)\n",
    "# Initialize a list to store the MSE for each fold\n",
    "mse_scores = []\n",
    "median_relative_errors = []\n",
    "r2_scores = []\n",
    "# Perform k-fold cross-validation\n",
    "for train_index, test_index in kf.split(X):\n",
    "    # Split the data into training and testing sets for the current fold\n",
    "    X_train, X_test = X.iloc[train_index], X.iloc[test_index]\n",
    "    y_train, y_test = y.iloc[train_index], y.iloc[test_index]\n",
    "    # Create a linear regression model\n",
    "    model = LinearRegression(n_jobs=-1)\n",
    "\n",
    "    # Train the model\n",
    "    model.fit(X_train, y_train)\n",
    "\n",
    "    # Make predictions on the test set\n",
    "    y_pred = model.predict(X_test)\n",
    "\n",
    "    # Convert predictions back to original scale\n",
    "    y_pred_orig = y_pred * ccs_std + ccs_mean\n",
    "    y_test_orig = y_test * ccs_std + ccs_mean\n",
    "\n",
    "    # Calculate the MSE for the current fold\n",
    "    mse = mean_squared_error(y_test_orig, y_pred_orig)\n",
    "    mse_scores.append(mse)\n",
    "    # Calculate the median relative error for the current fold\n",
    "    relative_errors = np.abs((y_pred_orig - y_test_orig) / y_test_orig)\n",
    "    median_relative_error = np.median(relative_errors)\n",
    "    median_relative_errors.append(median_relative_error)\n",
    "    # Calculate the R^2 score for the current fold\n",
    "    r2 = r2_score(y_test_orig, y_pred_orig)\n",
    "    r2_scores.append(r2)\n",
    "    # Progress update\n",
    "    print(\"Fold:\", len(mse_scores))\n",
    "\n",
    "# Create the final model\n",
    "final_model = LinearRegression(n_jobs=-1)\n",
    "final_model.fit(X, y)\n",
    "\n",
    "# Print the average MSE score\n",
    "print(\"Average Mean Squared Error:\", np.mean(mse_scores))\n",
    "# print the average of the median relative errors\n",
    "print(\"Average Median Relative Error:\", np.mean(median_relative_errors))\n",
    "# Print the average R^2 score\n",
    "print(\"Average R^2 Score:\", np.mean(r2_scores))\n",
    "# Calculate the elapsed time\n",
    "elapsed_time = time.time() - start_time\n",
    "# Print the elapsed time\n",
    "print(f'Time elapsed: {elapsed_time:.2f} seconds')"
   ],
   "metadata": {
    "collapsed": false
   }
  },
  {
   "cell_type": "code",
   "execution_count": 14,
   "outputs": [
    {
     "data": {
      "text/plain": "array([ 1.37672581e-35, -5.47690414e-39])"
     },
     "execution_count": 14,
     "metadata": {},
     "output_type": "execute_result"
    }
   ],
   "source": [
    "model.coef_"
   ],
   "metadata": {
    "collapsed": false
   }
  },
  {
   "cell_type": "code",
   "execution_count": 15,
   "outputs": [
    {
     "data": {
      "text/plain": "<Axes: xlabel='CCS_z', ylabel='charge'>"
     },
     "execution_count": 15,
     "metadata": {},
     "output_type": "execute_result"
    },
    {
     "data": {
      "text/plain": "<Figure size 640x480 with 1 Axes>",
      "image/png": "[encoded data removed]"
     },
     "metadata": {},
     "output_type": "display_data"
    }
   ],
   "source": [
    "data_clean.plot.scatter(x='CCS_z',\n",
    "                      y='charge',\n",
    "                      c='DarkBlue')"
   ],
   "metadata": {
    "collapsed": false
   }
  }
 ],
 "metadata": {
  "kernelspec": {
   "display_name": "Python 3",
   "language": "python",
   "name": "python3"
  },
  "language_info": {
   "codemirror_mode": {
    "name": "ipython",
    "version": 2
   },
   "file_extension": ".py",
   "mimetype": "text/x-python",
   "name": "python",
   "nbconvert_exporter": "python",
   "pygments_lexer": "ipython2",
   "version": "2.7.6"
  }
 },
 "nbformat": 4,
 "nbformat_minor": 0
}

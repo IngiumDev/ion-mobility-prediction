{
 "cells": [
  {
   "cell_type": "code",
   "execution_count": 2,
   "metadata": {
    "collapsed": true
   },
   "outputs": [],
   "source": [
    "import pandas as pd\n",
    "import seaborn as sn\n",
    "import matplotlib.pyplot as plt\n",
    "import scipy.cluster.hierarchy as sch"
   ]
  },
  {
   "cell_type": "markdown",
   "source": [
    "Import Data"
   ],
   "metadata": {
    "collapsed": false
   }
  },
  {
   "cell_type": "code",
   "execution_count": 3,
   "outputs": [],
   "source": [
    "mb_raw_data = pd.read_csv('../../data/mann_bruker.txt', sep=\"\\t\")\n",
    "tw_raw_data = pd.read_csv('../../data/tenzer_waters.csv')\n",
    "\n",
    "mb_clean = mb_raw_data[[\"CCS\", \"Ion mobility index\", \"Sequence\", \"Charge\", \"Mass\", \"Length\"]]\n",
    "del mb_raw_data\n",
    "\n",
    "tw_clean = tw_raw_data[[\"sequence\", \"dt\", \"charge\", \"mass\"]]\n",
    "del tw_raw_data"
   ],
   "metadata": {
    "collapsed": false
   }
  },
  {
   "cell_type": "markdown",
   "source": [
    "Merge Datasets By Common Sequence"
   ],
   "metadata": {
    "collapsed": false
   }
  },
  {
   "cell_type": "code",
   "execution_count": 4,
   "outputs": [],
   "source": [
    "mb_clean = mb_clean.rename(columns={\"Sequence\": \"sequence\", \"Charge\": \"charge\"})\n",
    "\n",
    "merged_data = pd.merge(mb_clean, tw_clean, on=[\"sequence\", \"charge\"])\n",
    "\n",
    "#just use numeric columns\n",
    "#numerics = ['int16', 'int32', 'int64', 'float16', 'float32', 'float64']\n",
    "#merged_data = merged_data.select_dtypes(include=numerics)"
   ],
   "metadata": {
    "collapsed": false
   }
  },
  {
   "cell_type": "code",
   "execution_count": 5,
   "outputs": [],
   "source": [
    "# Calculate the mean of 'column1' and 'column2' per row\n",
    "merged_data['mass_mean'] = merged_data[['Mass', 'mass']].mean(axis=1)\n",
    "merged_data = merged_data.drop([\"mass\", \"Mass\"], axis=1)\n",
    "merged_data = merged_data.rename({\"mass_mean\": \"mass\"}, axis=1)"
   ],
   "metadata": {
    "collapsed": false
   }
  },
  {
   "cell_type": "code",
   "execution_count": 6,
   "outputs": [
    {
     "data": {
      "text/plain": "                 CCS  Ion mobility index       sequence  charge  Length  \\\n0       5.996674e-36                 156     AAAAAAAAAK       1      10   \n1       5.956918e-36                 147     AAAAAAAAAK       1      10   \n2       5.996673e-36                 156     AAAAAAAAAK       1      10   \n3       5.970114e-36                 150     AAAAAAAAAK       1      10   \n4       5.996675e-36                 156     AAAAAAAAAK       1      10   \n...              ...                 ...            ...     ...     ...   \n157014  3.109287e-35                 729   YYVTIIDAPGHR       3      12   \n157015  3.109287e-35                 729   YYVTIIDAPGHR       3      12   \n157016  1.631641e-35                 522  YYWDIDLDNCVAR       2      13   \n157017  1.631641e-35                 522  YYWDIDLDNCVAR       2      13   \n157018  1.539046e-35                 462    YYWQENHLETK       2      11   \n\n             dt         mass  \n0       111.248   785.944876  \n1       111.248   785.944876  \n2       111.248   785.944876  \n3       111.248   785.944876  \n4       111.248   785.944876  \n...         ...          ...  \n157014   33.270  1404.225025  \n157015   33.276  1404.224925  \n157016   63.229  1702.251255  \n157017   63.877  1702.250505  \n157018   59.057  1510.186620  \n\n[157019 rows x 7 columns]",
      "text/html": "<div>\n<style scoped>\n    .dataframe tbody tr th:only-of-type {\n        vertical-align: middle;\n    }\n\n    .dataframe tbody tr th {\n        vertical-align: top;\n    }\n\n    .dataframe thead th {\n        text-align: right;\n    }\n</style>\n<table border=\"1\" class=\"dataframe\">\n  <thead>\n    <tr style=\"text-align: right;\">\n      <th></th>\n      <th>CCS</th>\n      <th>Ion mobility index</th>\n      <th>sequence</th>\n      <th>charge</th>\n      <th>Length</th>\n      <th>dt</th>\n      <th>mass</th>\n    </tr>\n  </thead>\n  <tbody>\n    <tr>\n      <th>0</th>\n      <td>5.996674e-36</td>\n      <td>156</td>\n      <td>AAAAAAAAAK</td>\n      <td>1</td>\n      <td>10</td>\n      <td>111.248</td>\n      <td>785.944876</td>\n    </tr>\n    <tr>\n      <th>1</th>\n      <td>5.956918e-36</td>\n      <td>147</td>\n      <td>AAAAAAAAAK</td>\n      <td>1</td>\n      <td>10</td>\n      <td>111.248</td>\n      <td>785.944876</td>\n    </tr>\n    <tr>\n      <th>2</th>\n      <td>5.996673e-36</td>\n      <td>156</td>\n      <td>AAAAAAAAAK</td>\n      <td>1</td>\n      <td>10</td>\n      <td>111.248</td>\n      <td>785.944876</td>\n    </tr>\n    <tr>\n      <th>3</th>\n      <td>5.970114e-36</td>\n      <td>150</td>\n      <td>AAAAAAAAAK</td>\n      <td>1</td>\n      <td>10</td>\n      <td>111.248</td>\n      <td>785.944876</td>\n    </tr>\n    <tr>\n      <th>4</th>\n      <td>5.996675e-36</td>\n      <td>156</td>\n      <td>AAAAAAAAAK</td>\n      <td>1</td>\n      <td>10</td>\n      <td>111.248</td>\n      <td>785.944876</td>\n    </tr>\n    <tr>\n      <th>...</th>\n      <td>...</td>\n      <td>...</td>\n      <td>...</td>\n      <td>...</td>\n      <td>...</td>\n      <td>...</td>\n      <td>...</td>\n    </tr>\n    <tr>\n      <th>157014</th>\n      <td>3.109287e-35</td>\n      <td>729</td>\n      <td>YYVTIIDAPGHR</td>\n      <td>3</td>\n      <td>12</td>\n      <td>33.270</td>\n      <td>1404.225025</td>\n    </tr>\n    <tr>\n      <th>157015</th>\n      <td>3.109287e-35</td>\n      <td>729</td>\n      <td>YYVTIIDAPGHR</td>\n      <td>3</td>\n      <td>12</td>\n      <td>33.276</td>\n      <td>1404.224925</td>\n    </tr>\n    <tr>\n      <th>157016</th>\n      <td>1.631641e-35</td>\n      <td>522</td>\n      <td>YYWDIDLDNCVAR</td>\n      <td>2</td>\n      <td>13</td>\n      <td>63.229</td>\n      <td>1702.251255</td>\n    </tr>\n    <tr>\n      <th>157017</th>\n      <td>1.631641e-35</td>\n      <td>522</td>\n      <td>YYWDIDLDNCVAR</td>\n      <td>2</td>\n      <td>13</td>\n      <td>63.877</td>\n      <td>1702.250505</td>\n    </tr>\n    <tr>\n      <th>157018</th>\n      <td>1.539046e-35</td>\n      <td>462</td>\n      <td>YYWQENHLETK</td>\n      <td>2</td>\n      <td>11</td>\n      <td>59.057</td>\n      <td>1510.186620</td>\n    </tr>\n  </tbody>\n</table>\n<p>157019 rows × 7 columns</p>\n</div>"
     },
     "execution_count": 6,
     "metadata": {},
     "output_type": "execute_result"
    }
   ],
   "source": [
    "merged_data"
   ],
   "metadata": {
    "collapsed": false
   }
  },
  {
   "cell_type": "code",
   "execution_count": 7,
   "outputs": [],
   "source": [
    "#merged_data.to_csv('../../data/merged_data.csv')"
   ],
   "metadata": {
    "collapsed": false
   }
  },
  {
   "cell_type": "code",
   "execution_count": 10,
   "outputs": [
    {
     "name": "stdout",
     "output_type": "stream",
     "text": [
      "CCS                   157019\n",
      "Ion mobility index    157019\n",
      "sequence              157019\n",
      "charge                157019\n",
      "Length                157019\n",
      "dt                    157019\n",
      "mass                  157019\n",
      "dtype: int64\n"
     ]
    }
   ],
   "source": [
    "merged_data_clean = merged_data.groupby(['sequence', 'charge']).agg({'mass':'median', 'CCS':'median','Length':'median', \"dt\": \"median\", \"Ion mobility index\": \"median\"}).reset_index()\n",
    "print(merged_data.count())"
   ],
   "metadata": {
    "collapsed": false
   }
  },
  {
   "cell_type": "markdown",
   "source": [
    "Create Correlation Matrix"
   ],
   "metadata": {
    "collapsed": false
   }
  },
  {
   "cell_type": "code",
   "execution_count": null,
   "outputs": [],
   "source": [
    "\n",
    "corr_matrix = merged_data[[\"CCS\", \"Ion mobility index\", \"dt\", \"mass\"]].corr(method=\"spearman\")\n",
    "\n",
    "sn.heatmap(corr_matrix, annot=True)"
   ],
   "metadata": {
    "collapsed": false
   }
  },
  {
   "cell_type": "code",
   "execution_count": null,
   "outputs": [],
   "source": [
    "linkage_matrix = sch.linkage(corr_matrix, method=\"ward\")\n",
    "\n",
    "dendrogram = sch.dendrogram(linkage_matrix, labels=[f'Label {i}' for i in range( corr_matrix.shape[0])])\n"
   ],
   "metadata": {
    "collapsed": false
   }
  }
 ],
 "metadata": {
  "kernelspec": {
   "display_name": "Python 3",
   "language": "python",
   "name": "python3"
  },
  "language_info": {
   "codemirror_mode": {
    "name": "ipython",
    "version": 2
   },
   "file_extension": ".py",
   "mimetype": "text/x-python",
   "name": "python",
   "nbconvert_exporter": "python",
   "pygments_lexer": "ipython2",
   "version": "2.7.6"
  }
 },
 "nbformat": 4,
 "nbformat_minor": 0
}
